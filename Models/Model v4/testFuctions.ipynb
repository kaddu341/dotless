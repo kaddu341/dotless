{
 "cells": [
  {
   "cell_type": "code",
   "execution_count": 2,
   "metadata": {},
   "outputs": [],
   "source": [
    "from dotlessFunctions import *"
   ]
  },
  {
   "cell_type": "code",
   "execution_count": 3,
   "metadata": {},
   "outputs": [
    {
     "name": "stderr",
     "output_type": "stream",
     "text": [
      "Some weights of the model checkpoint at UBC-NLP/ARBERT were not used when initializing BertForMaskedLM: ['bert.pooler.dense.bias', 'bert.pooler.dense.weight', 'cls.seq_relationship.bias', 'cls.seq_relationship.weight']\n",
      "- This IS expected if you are initializing BertForMaskedLM from the checkpoint of a model trained on another task or with another architecture (e.g. initializing a BertForSequenceClassification model from a BertForPreTraining model).\n",
      "- This IS NOT expected if you are initializing BertForMaskedLM from the checkpoint of a model that you expect to be exactly identical (initializing a BertForSequenceClassification model from a BertForSequenceClassification model).\n"
     ]
    }
   ],
   "source": [
    "model_name = \"UBC-NLP/ARBERT\"\n",
    "tokenizer = AutoTokenizer.from_pretrained(model_name)\n",
    "model = AutoModelForMaskedLM.from_pretrained(model_name)"
   ]
  },
  {
   "cell_type": "code",
   "execution_count": 5,
   "metadata": {},
   "outputs": [
    {
     "data": {
      "text/plain": [
       "{'Masked': 'قرأ [MASK] كتابه ثم نام',\n",
       " 'Options': ['آخمد',\n",
       "  'آخمذ',\n",
       "  'آحمد',\n",
       "  'آحمذ',\n",
       "  'آجمد',\n",
       "  'آجمذ',\n",
       "  'إخمد',\n",
       "  'إخمذ',\n",
       "  'إحمد',\n",
       "  'إحمذ',\n",
       "  'إجمد',\n",
       "  'إجمذ',\n",
       "  'أخمد',\n",
       "  'أخمذ',\n",
       "  'أحمد',\n",
       "  'أحمذ',\n",
       "  'أجمد',\n",
       "  'أجمذ',\n",
       "  'اخمد',\n",
       "  'اخمذ',\n",
       "  'احمد',\n",
       "  'احمذ',\n",
       "  'اجمد',\n",
       "  'اجمذ'],\n",
       " 'Target': 'أحمد'}"
      ]
     },
     "execution_count": 5,
     "metadata": {},
     "output_type": "execute_result"
    }
   ],
   "source": [
    "example = mask_word(\"قرأ أحمد كتابه ثم نام\", 1)\n",
    "example"
   ]
  },
  {
   "cell_type": "code",
   "execution_count": 11,
   "metadata": {},
   "outputs": [
    {
     "name": "stdout",
     "output_type": "stream",
     "text": [
      "Length of words: 16\n",
      "Word: 'قزا', Probability: 0.0000172654\n",
      "Word: 'قزأ', Probability: 0.0000172654\n",
      "Word: 'قزإ', Probability: 0.0000172654\n",
      "Word: 'قزآ', Probability: 0.0000172654\n",
      "Word: 'قرأ', Probability: 0.0000172654\n",
      "Word: 'قرإ', Probability: 0.0000172654\n",
      "Word: 'قرآ', Probability: 0.0000172654\n",
      "Word: 'فزا', Probability: 0.0000172654\n",
      "Word: 'فزأ', Probability: 0.0000172654\n",
      "Word: 'فزإ', Probability: 0.0000172654\n",
      "Word: 'فزآ', Probability: 0.0000172654\n",
      "Word: 'فرأ', Probability: 0.0000172654\n",
      "Word: 'فرإ', Probability: 0.0000172654\n",
      "Word: 'فرآ', Probability: 0.0000172654\n",
      "Word: 'قرا', Probability: 0.0000019599\n",
      "Word: 'فرا', Probability: 0.0000009944\n",
      "\n",
      "Most probable word: قزا\n",
      "Target word: قرأ\n",
      "------------------------------------------\n",
      "Sucess at probability level: 4\n"
     ]
    }
   ],
   "source": [
    "easy_test(\"قرأ أحمد كتابه ثم نام\", model, tokenizer, 0)"
   ]
  },
  {
   "cell_type": "code",
   "execution_count": 15,
   "metadata": {},
   "outputs": [
    {
     "data": {
      "text/plain": [
       "({'آخمد': 2.5977258701459505e-05,\n",
       "  'آخمذ': 2.5977258701459505e-05,\n",
       "  'آحمد': 2.5977258701459505e-05,\n",
       "  'آحمذ': 2.5977258701459505e-05,\n",
       "  'آجمد': 2.5977258701459505e-05,\n",
       "  'آجمذ': 2.5977258701459505e-05,\n",
       "  'إخمد': 2.5977258701459505e-05,\n",
       "  'إخمذ': 2.5977258701459505e-05,\n",
       "  'إحمد': 2.5977258701459505e-05,\n",
       "  'إحمذ': 2.5977258701459505e-05,\n",
       "  'إجمد': 2.5977258701459505e-05,\n",
       "  'إجمذ': 2.5977258701459505e-05,\n",
       "  'أخمد': 2.5977258701459505e-05,\n",
       "  'أخمذ': 2.5977258701459505e-05,\n",
       "  'أحمد': 2.5977258701459505e-05,\n",
       "  'أحمذ': 2.5977258701459505e-05,\n",
       "  'أجمد': 2.5977258701459505e-05,\n",
       "  'أجمذ': 2.5977258701459505e-05,\n",
       "  'اخمد': 2.5977258701459505e-05,\n",
       "  'اخمذ': 2.5977258701459505e-05,\n",
       "  'احمد': 1.5415385860251263e-05,\n",
       "  'احمذ': 2.5977258701459505e-05,\n",
       "  'اجمد': 4.429415412232629e-07,\n",
       "  'اجمذ': 2.5977258701459505e-05},\n",
       " ['آخمد',\n",
       "  'آخمذ',\n",
       "  'آحمد',\n",
       "  'آحمذ',\n",
       "  'آجمد',\n",
       "  'آجمذ',\n",
       "  'إخمد',\n",
       "  'إخمذ',\n",
       "  'إحمد',\n",
       "  'إحمذ',\n",
       "  'إجمد',\n",
       "  'إجمذ',\n",
       "  'أخمد',\n",
       "  'أخمذ',\n",
       "  'أحمد',\n",
       "  'أحمذ',\n",
       "  'أجمد',\n",
       "  'أجمذ',\n",
       "  'اخمد',\n",
       "  'اخمذ',\n",
       "  'احمذ',\n",
       "  'اجمذ',\n",
       "  'احمد',\n",
       "  'اجمد'],\n",
       " 'آخمد')"
      ]
     },
     "execution_count": 15,
     "metadata": {},
     "output_type": "execute_result"
    }
   ],
   "source": [
    "structured_probabilties(example, model, tokenizer)"
   ]
  },
  {
   "cell_type": "code",
   "execution_count": null,
   "metadata": {},
   "outputs": [],
   "source": []
  }
 ],
 "metadata": {
  "kernelspec": {
   "display_name": "Python 3",
   "language": "python",
   "name": "python3"
  },
  "language_info": {
   "codemirror_mode": {
    "name": "ipython",
    "version": 3
   },
   "file_extension": ".py",
   "mimetype": "text/x-python",
   "name": "python",
   "nbconvert_exporter": "python",
   "pygments_lexer": "ipython3",
   "version": "3.11.6"
  }
 },
 "nbformat": 4,
 "nbformat_minor": 2
}
