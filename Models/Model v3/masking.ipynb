{
 "cells": [
  {
   "cell_type": "code",
   "execution_count": 44,
   "metadata": {},
   "outputs": [],
   "source": [
    "from transformers import AutoTokenizer\n",
    "\n",
    "from tokenizers import (\n",
    "    decoders,\n",
    "    models,\n",
    "    normalizers,\n",
    "    pre_tokenizers,\n",
    "    processors,\n",
    "    trainers,\n",
    "    Tokenizer,\n",
    ")\n",
    "\n",
    "from huggingface_hub import notebook_login\n",
    "\n",
    "from datasets import *\n",
    "import numpy as np\n",
    "import re\n",
    "import random\n"
   ]
  },
  {
   "cell_type": "code",
   "execution_count": 62,
   "metadata": {},
   "outputs": [],
   "source": [
    "\n",
    "dataset = load_from_disk('AR-dotted-mediumPlus-arrow')"
   ]
  },
  {
   "cell_type": "code",
   "execution_count": 63,
   "metadata": {},
   "outputs": [],
   "source": [
    "tokenizer = AutoTokenizer.from_pretrained(\"AR-dotted-tokenizer\")\n"
   ]
  },
  {
   "cell_type": "code",
   "execution_count": 47,
   "metadata": {},
   "outputs": [
    {
     "data": {
      "text/plain": [
       "'وجميل [MASK] الطقس'"
      ]
     },
     "execution_count": 47,
     "metadata": {},
     "output_type": "execute_result"
    }
   ],
   "source": [
    "test_sentance = \"وجميل [MASK] الطقس\"\n",
    "test_sentance"
   ]
  },
  {
   "cell_type": "code",
   "execution_count": 48,
   "metadata": {},
   "outputs": [
    {
     "ename": "NameError",
     "evalue": "name 'allVariation' is not defined",
     "output_type": "error",
     "traceback": [
      "\u001b[0;31m---------------------------------------------------------------------------\u001b[0m",
      "\u001b[0;31mNameError\u001b[0m                                 Traceback (most recent call last)",
      "\u001b[1;32m/Users/ammar/Developer/git-repos/dotless/Models/Model v3/masking.ipynb Cell 5\u001b[0m line \u001b[0;36m1\n\u001b[0;32m----> <a href='vscode-notebook-cell:/Users/ammar/Developer/git-repos/dotless/Models/Model%20v3/masking.ipynb#W4sZmlsZQ%3D%3D?line=0'>1</a>\u001b[0m new \u001b[39m=\u001b[39m allVariation(parse_text(\u001b[39m\"\u001b[39m\u001b[39mمعتدل\u001b[39m\u001b[39m\"\u001b[39m)[\u001b[39m1\u001b[39m])\n\u001b[1;32m      <a href='vscode-notebook-cell:/Users/ammar/Developer/git-repos/dotless/Models/Model%20v3/masking.ipynb#W4sZmlsZQ%3D%3D?line=1'>2</a>\u001b[0m \u001b[39mprint\u001b[39m(new)\n\u001b[1;32m      <a href='vscode-notebook-cell:/Users/ammar/Developer/git-repos/dotless/Models/Model%20v3/masking.ipynb#W4sZmlsZQ%3D%3D?line=2'>3</a>\u001b[0m \u001b[39mprint\u001b[39m(\u001b[39m\"\u001b[39m\u001b[39mLength:\u001b[39m\u001b[39m\"\u001b[39m, \u001b[39mlen\u001b[39m(new))\n",
      "\u001b[0;31mNameError\u001b[0m: name 'allVariation' is not defined"
     ]
    }
   ],
   "source": [
    "new = allVariation(parse_text(\"معتدل\")[1])\n",
    "print(new)\n",
    "print(\"Length:\", len(new))\n",
    "print(\"Duplicates:\", len(new) != len(set(new)))\n"
   ]
  },
  {
   "cell_type": "code",
   "execution_count": 49,
   "metadata": {},
   "outputs": [],
   "source": [
    "def mask_random_word(input_string, seed=None):\n",
    "    words = input_string.split()\n",
    "    print(words)\n",
    "    if seed is not None:\n",
    "        random.seed(seed)\n",
    "\n",
    "    if words:\n",
    "        index = random.randint(0, len(words) - 1)\n",
    "        word_to_replace = words[index]\n",
    "        words[index] = \"[MASK]\"\n",
    "        modified_string = ' '.join(words)\n",
    "        return modified_string, word_to_replace\n",
    "    else:\n",
    "        return input_string, None"
   ]
  },
  {
   "cell_type": "code",
   "execution_count": 50,
   "metadata": {},
   "outputs": [
    {
     "data": {
      "text/plain": [
       "DatasetDict({\n",
       "    train: Dataset({\n",
       "        features: ['clean', 'dotless'],\n",
       "        num_rows: 2980842\n",
       "    })\n",
       "})"
      ]
     },
     "execution_count": 50,
     "metadata": {},
     "output_type": "execute_result"
    }
   ],
   "source": [
    "dataset"
   ]
  },
  {
   "cell_type": "code",
   "execution_count": 51,
   "metadata": {},
   "outputs": [
    {
     "name": "stdout",
     "output_type": "stream",
     "text": [
      "['زكريا', 'محيي', 'الدين', 'يحيى', 'بن', 'شرف', 'النووي', 'المتوفى', 'ه', 'ج', 'ص']\n"
     ]
    },
    {
     "ename": "NameError",
     "evalue": "name 'allVariation' is not defined",
     "output_type": "error",
     "traceback": [
      "\u001b[0;31m---------------------------------------------------------------------------\u001b[0m",
      "\u001b[0;31mNameError\u001b[0m                                 Traceback (most recent call last)",
      "\u001b[1;32m/Users/ammar/Developer/git-repos/dotless/Models/Model v3/masking.ipynb Cell 8\u001b[0m line \u001b[0;36m6\n\u001b[1;32m      <a href='vscode-notebook-cell:/Users/ammar/Developer/git-repos/dotless/Models/Model%20v3/masking.ipynb#X13sZmlsZQ%3D%3D?line=3'>4</a>\u001b[0m \u001b[39m#seed = 1\u001b[39;00m\n\u001b[1;32m      <a href='vscode-notebook-cell:/Users/ammar/Developer/git-repos/dotless/Models/Model%20v3/masking.ipynb#X13sZmlsZQ%3D%3D?line=4'>5</a>\u001b[0m masked_sentance, target \u001b[39m=\u001b[39m mask_random_word(test_sentance, seed\u001b[39m=\u001b[39mseed)\n\u001b[0;32m----> <a href='vscode-notebook-cell:/Users/ammar/Developer/git-repos/dotless/Models/Model%20v3/masking.ipynb#X13sZmlsZQ%3D%3D?line=5'>6</a>\u001b[0m variations \u001b[39m=\u001b[39m allVariation(parse_text(target)[\u001b[39m1\u001b[39m])\n\u001b[1;32m      <a href='vscode-notebook-cell:/Users/ammar/Developer/git-repos/dotless/Models/Model%20v3/masking.ipynb#X13sZmlsZQ%3D%3D?line=6'>7</a>\u001b[0m \u001b[39mprint\u001b[39m(\u001b[39m\"\u001b[39m\u001b[39mOriginal Sentance:\u001b[39m\u001b[39m\"\u001b[39m, test_sentance)\n\u001b[1;32m      <a href='vscode-notebook-cell:/Users/ammar/Developer/git-repos/dotless/Models/Model%20v3/masking.ipynb#X13sZmlsZQ%3D%3D?line=7'>8</a>\u001b[0m \u001b[39mprint\u001b[39m(\u001b[39m\"\u001b[39m\u001b[39mMasked Sentance:\u001b[39m\u001b[39m\"\u001b[39m, masked_sentance)\n",
      "\u001b[0;31mNameError\u001b[0m: name 'allVariation' is not defined"
     ]
    }
   ],
   "source": [
    "\n",
    "#test_sentance = \"الطقس معتدل وجميل\"\n",
    "test_sentance = dataset[\"train\"][0]['clean']\n",
    "seed = None\n",
    "#seed = 1\n",
    "masked_sentance, target = mask_random_word(test_sentance, seed=seed)\n",
    "variations = allVariation(parse_text(target)[1])\n",
    "print(\"Original Sentance:\", test_sentance)\n",
    "print(\"Masked Sentance:\", masked_sentance)\n",
    "print(\"Target:\", target)\n",
    "print(\"Variations:\", variations)\n",
    "\n",
    "print()\n",
    "print()\n",
    "print()\n",
    "\n",
    "# sanity check to make sure the way arabic is messing up with \n",
    "# english in text display isn't actually how it is.\n",
    "masked_Array = masked_sentance.split()\n",
    "for i in range(len(masked_Array)):\n",
    "    print(masked_Array[i])\n",
    "print()\n",
    "print()\n",
    "print()\n",
    "\n",
    "inputs_c = tokenizer(masked_sentance)\n",
    "print(inputs_c)\n",
    "print(tokenizer.convert_ids_to_tokens(inputs_c[\"input_ids\"]))\n",
    "print(masked_sentance)"
   ]
  },
  {
   "cell_type": "markdown",
   "metadata": {},
   "source": [
    "## New Dataset creation, MASKED sentance, list of possible targets, and label (target)"
   ]
  },
  {
   "cell_type": "code",
   "execution_count": 52,
   "metadata": {},
   "outputs": [],
   "source": [
    "# Replaces multiple spaces, or whatever char designated by the perameter into one char. (helper function)\n",
    "def replace(string, char):\n",
    "    while char+char in string:\n",
    "        string = string.replace(char+char, char)\n",
    "\n",
    "    return string\n",
    "\n",
    "def reverse_dict_with_duplicates(input_dict):\n",
    "    reversed_dict = {}\n",
    "    \n",
    "    for key, value in input_dict.items():\n",
    "        if value not in reversed_dict:\n",
    "            reversed_dict[value] = [key]\n",
    "        else:\n",
    "            reversed_dict[value].append(key)\n",
    "    \n",
    "    return reversed_dict\n",
    "\n",
    "letter_dict = {\n",
    "    \"ا\": \"ا\",\n",
    "    \"أ\": \"ا\",\n",
    "    \"إ\": \"ا\",\n",
    "    \"آ\": \"ا\",\n",
    "    \"ب\": \"ب\",\n",
    "    \"ت\": \"ب\",\n",
    "    \"ث\": \"ب\",\n",
    "    \"ج\": \"ح\",\n",
    "    \"ح\": \"ح\",\n",
    "    \"خ\": \"ح\",\n",
    "    \"د\": \"د\",\n",
    "    \"ذ\": \"د\",\n",
    "    \"ر\": \"ر\",\n",
    "    \"ز\": \"ر\",\n",
    "    \"س\": \"س\",\n",
    "    \"ش\": \"س\",\n",
    "    \"ص\": \"ص\",\n",
    "    \"ض\": \"ص\",\n",
    "    \"ط\": \"ط\",\n",
    "    \"ظ\": \"ط\",\n",
    "    \"ع\": \"ع\",\n",
    "    \"غ\": \"ع\",\n",
    "    \"ف\": \"ف\",\n",
    "    \"ق\": \"ف\",\n",
    "    \"ك\": \"ك\",\n",
    "    \"ل\": \"ل\",\n",
    "    \"م\": \"م\",\n",
    "    \"ن\": \"ن\",\n",
    "    \"و\": \"و\",\n",
    "    \"ؤ\": \"و\",\n",
    "    \"ه\": \"ه\",\n",
    "    \"ة\": \"ه\",\n",
    "    \"ي\": \"ى\",\n",
    "    \"ى\": \"ى\",\n",
    "    \"ئ\": \"ى\",\n",
    "    \" \": \"_\",\n",
    "    \n",
    "}\n",
    "letter_set = set(letter_dict.keys())\n",
    "iLetters = reverse_dict_with_duplicates(letter_dict)"
   ]
  },
  {
   "cell_type": "code",
   "execution_count": 79,
   "metadata": {},
   "outputs": [],
   "source": [
    "def uMap_parse_dotless_text(text):\n",
    "  dotless_chars = [letter_dict[char] for char in text]\n",
    "  dotless_string = ''.join(dotless_chars)\n",
    "        \n",
    "  dotless_string = replace(dotless_string, '_')\n",
    "    \n",
    "  return dotless_string"
   ]
  },
  {
   "cell_type": "code",
   "execution_count": null,
   "metadata": {},
   "outputs": [],
   "source": []
  },
  {
   "cell_type": "code",
   "execution_count": 119,
   "metadata": {},
   "outputs": [],
   "source": [
    "def uMap_allVariation(root, i = 0):\n",
    "    tWord = []\n",
    "    word = [a for a in root]\n",
    "    char = word[i]\n",
    "    for dot in iLetters[char]:\n",
    "        word[i] = dot\n",
    "        vWord = ''.join(word)\n",
    "        if i != len(word) - 1:\n",
    "            tWord.extend(uMap_allVariation(vWord, i+1))\n",
    "        else:\n",
    "            #if vWord in dictionary:\n",
    "            tWord.append(vWord)\n",
    "    return tWord"
   ]
  },
  {
   "cell_type": "code",
   "execution_count": 175,
   "metadata": {},
   "outputs": [],
   "source": [
    "import time\n"
   ]
  },
  {
   "cell_type": "code",
   "execution_count": 215,
   "metadata": {},
   "outputs": [
    {
     "name": "stdout",
     "output_type": "stream",
     "text": [
      "predicted time for 1000 examples: 0.798271894454956 seconds\n",
      "\n",
      "\n",
      "\n",
      "\n",
      "\n",
      "average per example: 0.0007939298152923584 seconds\n",
      "--------------------------------------------------------------------------\n",
      "predicted time for 1000 examples: 0.798271894454956 seconds\n",
      "actual time for 1000 examples:    0.7939298152923584 seconds\n",
      "accuracy of prediction: 0.546909698938403 %\n"
     ]
    }
   ],
   "source": [
    "n = 10000\n",
    "prediction_n = each_n*n\n",
    "\n",
    "print(\"predicted time for\", n, \"examples:\", prediction_n, \"seconds\")\n",
    "print(\"\\n\\n\\n\\n\")\n",
    "t0 = time.time()\n",
    "for i in range(n): uMap_allVariation(uMap_parse_dotless_text(\"زكريازكريا\"))\n",
    "\n",
    "t1 = time.time()\n",
    "\n",
    "\n",
    "total_n = (t1-t0)\n",
    "each_n = total_n/n\n",
    "print(\"average per example:\", each_n, \"seconds\")\n",
    "print(\"--------------------------------------------------------------------------\")\n",
    "print(\"predicted time for\", n, \"examples:\", prediction_n, \"seconds\")\n",
    "print(\"actual time for\", n, \"examples:   \", total_n, \"seconds\")\n",
    "print(\"accuracy of prediction:\", (abs(total_n - prediction_n)/total_n)*100, \"%\")\n"
   ]
  },
  {
   "cell_type": "code",
   "execution_count": 209,
   "metadata": {},
   "outputs": [],
   "source": [
    "#def helper_map_allVariation(example):\n",
    " #   strings = []\n",
    " #   print(example)\n",
    "  #  for text in example:\n",
    "   #     print(text)\n",
    "    #    strings.append(map_allVariation(text))"
   ]
  },
  {
   "cell_type": "code",
   "execution_count": null,
   "metadata": {},
   "outputs": [],
   "source": []
  },
  {
   "cell_type": "code",
   "execution_count": 100,
   "metadata": {},
   "outputs": [],
   "source": [
    "def map_mask_random_word(example):\n",
    "    masked = []\n",
    "    options = []\n",
    "    targets = []\n",
    "\n",
    "    for text in example[\"clean\"]:\n",
    "        words = text.split()\n",
    "        \n",
    "        index = random.randint(0, len(words) - 1)  # Generate a random index for each sentence\n",
    "\n",
    "        for i, word in enumerate(words):\n",
    "            if i == index:\n",
    "                word_to_replace = words[i]\n",
    "                variations = uMap_allVariation(uMap_parse_dotless_text(word_to_replace))\n",
    "                words[i] = \"[MASK]\"\n",
    "                modified_string = ' '.join(words)\n",
    "                masked.append(modified_string)\n",
    "                options.append(variations)\n",
    "                targets.append(word_to_replace)\n",
    "    \n",
    "    return {\"Masked\": masked, \"Options\": options, \"Target\": targets}"
   ]
  },
  {
   "cell_type": "code",
   "execution_count": 109,
   "metadata": {},
   "outputs": [
    {
     "data": {
      "text/plain": [
       "DatasetDict({\n",
       "    train: Dataset({\n",
       "        features: ['clean'],\n",
       "        num_rows: 2980842\n",
       "    })\n",
       "})"
      ]
     },
     "execution_count": 109,
     "metadata": {},
     "output_type": "execute_result"
    }
   ],
   "source": [
    "dataset"
   ]
  },
  {
   "cell_type": "code",
   "execution_count": 118,
   "metadata": {},
   "outputs": [
    {
     "name": "stdout",
     "output_type": "stream",
     "text": [
      "Dataset({\n",
      "    features: ['clean'],\n",
      "    num_rows: 100000\n",
      "}) \n",
      "\n",
      "{'clean': 'زكريا محيي الدين يحيى بن شرف النووي المتوفى ه ج ص'}\n"
     ]
    }
   ],
   "source": [
    "#n_dataset= dataset\n",
    "n_dataset = dataset['train'].select(range(100000)) #Trim to number of examples #previously 100,000\n",
    "print(n_dataset, '\\n')\n",
    "print(n_dataset[0])"
   ]
  },
  {
   "cell_type": "code",
   "execution_count": 117,
   "metadata": {},
   "outputs": [
    {
     "data": {
      "application/vnd.jupyter.widget-view+json": {
       "model_id": "fd003438e92146a2bd2c23bdace7b399",
       "version_major": 2,
       "version_minor": 0
      },
      "text/plain": [
       "Map:   0%|          | 0/100001 [00:00<?, ? examples/s]"
      ]
     },
     "metadata": {},
     "output_type": "display_data"
    },
    {
     "ename": "KeyboardInterrupt",
     "evalue": "",
     "output_type": "error",
     "traceback": [
      "\u001b[0;31m---------------------------------------------------------------------------\u001b[0m",
      "\u001b[0;31mKeyboardInterrupt\u001b[0m                         Traceback (most recent call last)",
      "\u001b[1;32m/Users/ammar/Developer/git-repos/dotless/Models/Model v3/masking.ipynb Cell 17\u001b[0m line \u001b[0;36m1\n\u001b[0;32m----> <a href='vscode-notebook-cell:/Users/ammar/Developer/git-repos/dotless/Models/Model%20v3/masking.ipynb#X26sZmlsZQ%3D%3D?line=0'>1</a>\u001b[0m m_dataset \u001b[39m=\u001b[39m n_dataset\u001b[39m.\u001b[39;49mmap(map_mask_random_word, batched\u001b[39m=\u001b[39;49m \u001b[39mTrue\u001b[39;49;00m, remove_columns\u001b[39m=\u001b[39;49m\u001b[39m\"\u001b[39;49m\u001b[39mclean\u001b[39;49m\u001b[39m\"\u001b[39;49m) \u001b[39m#Apply the function (convert dotted to dotless)\u001b[39;00m\n",
      "File \u001b[0;32m~/Developer/git-repos/dotless/env/lib/python3.11/site-packages/datasets/arrow_dataset.py:592\u001b[0m, in \u001b[0;36mtransmit_tasks.<locals>.wrapper\u001b[0;34m(*args, **kwargs)\u001b[0m\n\u001b[1;32m    590\u001b[0m     \u001b[39mself\u001b[39m: \u001b[39m\"\u001b[39m\u001b[39mDataset\u001b[39m\u001b[39m\"\u001b[39m \u001b[39m=\u001b[39m kwargs\u001b[39m.\u001b[39mpop(\u001b[39m\"\u001b[39m\u001b[39mself\u001b[39m\u001b[39m\"\u001b[39m)\n\u001b[1;32m    591\u001b[0m \u001b[39m# apply actual function\u001b[39;00m\n\u001b[0;32m--> 592\u001b[0m out: Union[\u001b[39m\"\u001b[39m\u001b[39mDataset\u001b[39m\u001b[39m\"\u001b[39m, \u001b[39m\"\u001b[39m\u001b[39mDatasetDict\u001b[39m\u001b[39m\"\u001b[39m] \u001b[39m=\u001b[39m func(\u001b[39mself\u001b[39;49m, \u001b[39m*\u001b[39;49margs, \u001b[39m*\u001b[39;49m\u001b[39m*\u001b[39;49mkwargs)\n\u001b[1;32m    593\u001b[0m datasets: List[\u001b[39m\"\u001b[39m\u001b[39mDataset\u001b[39m\u001b[39m\"\u001b[39m] \u001b[39m=\u001b[39m \u001b[39mlist\u001b[39m(out\u001b[39m.\u001b[39mvalues()) \u001b[39mif\u001b[39;00m \u001b[39misinstance\u001b[39m(out, \u001b[39mdict\u001b[39m) \u001b[39melse\u001b[39;00m [out]\n\u001b[1;32m    594\u001b[0m \u001b[39mfor\u001b[39;00m dataset \u001b[39min\u001b[39;00m datasets:\n\u001b[1;32m    595\u001b[0m     \u001b[39m# Remove task templates if a column mapping of the template is no longer valid\u001b[39;00m\n",
      "File \u001b[0;32m~/Developer/git-repos/dotless/env/lib/python3.11/site-packages/datasets/arrow_dataset.py:557\u001b[0m, in \u001b[0;36mtransmit_format.<locals>.wrapper\u001b[0;34m(*args, **kwargs)\u001b[0m\n\u001b[1;32m    550\u001b[0m self_format \u001b[39m=\u001b[39m {\n\u001b[1;32m    551\u001b[0m     \u001b[39m\"\u001b[39m\u001b[39mtype\u001b[39m\u001b[39m\"\u001b[39m: \u001b[39mself\u001b[39m\u001b[39m.\u001b[39m_format_type,\n\u001b[1;32m    552\u001b[0m     \u001b[39m\"\u001b[39m\u001b[39mformat_kwargs\u001b[39m\u001b[39m\"\u001b[39m: \u001b[39mself\u001b[39m\u001b[39m.\u001b[39m_format_kwargs,\n\u001b[1;32m    553\u001b[0m     \u001b[39m\"\u001b[39m\u001b[39mcolumns\u001b[39m\u001b[39m\"\u001b[39m: \u001b[39mself\u001b[39m\u001b[39m.\u001b[39m_format_columns,\n\u001b[1;32m    554\u001b[0m     \u001b[39m\"\u001b[39m\u001b[39moutput_all_columns\u001b[39m\u001b[39m\"\u001b[39m: \u001b[39mself\u001b[39m\u001b[39m.\u001b[39m_output_all_columns,\n\u001b[1;32m    555\u001b[0m }\n\u001b[1;32m    556\u001b[0m \u001b[39m# apply actual function\u001b[39;00m\n\u001b[0;32m--> 557\u001b[0m out: Union[\u001b[39m\"\u001b[39m\u001b[39mDataset\u001b[39m\u001b[39m\"\u001b[39m, \u001b[39m\"\u001b[39m\u001b[39mDatasetDict\u001b[39m\u001b[39m\"\u001b[39m] \u001b[39m=\u001b[39m func(\u001b[39mself\u001b[39;49m, \u001b[39m*\u001b[39;49margs, \u001b[39m*\u001b[39;49m\u001b[39m*\u001b[39;49mkwargs)\n\u001b[1;32m    558\u001b[0m datasets: List[\u001b[39m\"\u001b[39m\u001b[39mDataset\u001b[39m\u001b[39m\"\u001b[39m] \u001b[39m=\u001b[39m \u001b[39mlist\u001b[39m(out\u001b[39m.\u001b[39mvalues()) \u001b[39mif\u001b[39;00m \u001b[39misinstance\u001b[39m(out, \u001b[39mdict\u001b[39m) \u001b[39melse\u001b[39;00m [out]\n\u001b[1;32m    559\u001b[0m \u001b[39m# re-apply format to the output\u001b[39;00m\n",
      "File \u001b[0;32m~/Developer/git-repos/dotless/env/lib/python3.11/site-packages/datasets/arrow_dataset.py:3097\u001b[0m, in \u001b[0;36mDataset.map\u001b[0;34m(self, function, with_indices, with_rank, input_columns, batched, batch_size, drop_last_batch, remove_columns, keep_in_memory, load_from_cache_file, cache_file_name, writer_batch_size, features, disable_nullable, fn_kwargs, num_proc, suffix_template, new_fingerprint, desc)\u001b[0m\n\u001b[1;32m   3090\u001b[0m \u001b[39mif\u001b[39;00m transformed_dataset \u001b[39mis\u001b[39;00m \u001b[39mNone\u001b[39;00m:\n\u001b[1;32m   3091\u001b[0m     \u001b[39mwith\u001b[39;00m logging\u001b[39m.\u001b[39mtqdm(\n\u001b[1;32m   3092\u001b[0m         disable\u001b[39m=\u001b[39m\u001b[39mnot\u001b[39;00m logging\u001b[39m.\u001b[39mis_progress_bar_enabled(),\n\u001b[1;32m   3093\u001b[0m         unit\u001b[39m=\u001b[39m\u001b[39m\"\u001b[39m\u001b[39m examples\u001b[39m\u001b[39m\"\u001b[39m,\n\u001b[1;32m   3094\u001b[0m         total\u001b[39m=\u001b[39mpbar_total,\n\u001b[1;32m   3095\u001b[0m         desc\u001b[39m=\u001b[39mdesc \u001b[39mor\u001b[39;00m \u001b[39m\"\u001b[39m\u001b[39mMap\u001b[39m\u001b[39m\"\u001b[39m,\n\u001b[1;32m   3096\u001b[0m     ) \u001b[39mas\u001b[39;00m pbar:\n\u001b[0;32m-> 3097\u001b[0m         \u001b[39mfor\u001b[39;00m rank, done, content \u001b[39min\u001b[39;00m Dataset\u001b[39m.\u001b[39m_map_single(\u001b[39m*\u001b[39m\u001b[39m*\u001b[39mdataset_kwargs):\n\u001b[1;32m   3098\u001b[0m             \u001b[39mif\u001b[39;00m done:\n\u001b[1;32m   3099\u001b[0m                 shards_done \u001b[39m+\u001b[39m\u001b[39m=\u001b[39m \u001b[39m1\u001b[39m\n",
      "File \u001b[0;32m~/Developer/git-repos/dotless/env/lib/python3.11/site-packages/datasets/arrow_dataset.py:3474\u001b[0m, in \u001b[0;36mDataset._map_single\u001b[0;34m(shard, function, with_indices, with_rank, input_columns, batched, batch_size, drop_last_batch, remove_columns, keep_in_memory, cache_file_name, writer_batch_size, features, disable_nullable, fn_kwargs, new_fingerprint, rank, offset)\u001b[0m\n\u001b[1;32m   3470\u001b[0m indices \u001b[39m=\u001b[39m \u001b[39mlist\u001b[39m(\n\u001b[1;32m   3471\u001b[0m     \u001b[39mrange\u001b[39m(\u001b[39m*\u001b[39m(\u001b[39mslice\u001b[39m(i, i \u001b[39m+\u001b[39m batch_size)\u001b[39m.\u001b[39mindices(shard\u001b[39m.\u001b[39mnum_rows)))\n\u001b[1;32m   3472\u001b[0m )  \u001b[39m# Something simpler?\u001b[39;00m\n\u001b[1;32m   3473\u001b[0m \u001b[39mtry\u001b[39;00m:\n\u001b[0;32m-> 3474\u001b[0m     batch \u001b[39m=\u001b[39m apply_function_on_filtered_inputs(\n\u001b[1;32m   3475\u001b[0m         batch,\n\u001b[1;32m   3476\u001b[0m         indices,\n\u001b[1;32m   3477\u001b[0m         check_same_num_examples\u001b[39m=\u001b[39;49m\u001b[39mlen\u001b[39;49m(shard\u001b[39m.\u001b[39;49mlist_indexes()) \u001b[39m>\u001b[39;49m \u001b[39m0\u001b[39;49m,\n\u001b[1;32m   3478\u001b[0m         offset\u001b[39m=\u001b[39;49moffset,\n\u001b[1;32m   3479\u001b[0m     )\n\u001b[1;32m   3480\u001b[0m \u001b[39mexcept\u001b[39;00m NumExamplesMismatchError:\n\u001b[1;32m   3481\u001b[0m     \u001b[39mraise\u001b[39;00m DatasetTransformationNotAllowedError(\n\u001b[1;32m   3482\u001b[0m         \u001b[39m\"\u001b[39m\u001b[39mUsing `.map` in batched mode on a dataset with attached indexes is allowed only if it doesn\u001b[39m\u001b[39m'\u001b[39m\u001b[39mt create or remove existing examples. You can first run `.drop_index() to remove your index and then re-add it.\u001b[39m\u001b[39m\"\u001b[39m\n\u001b[1;32m   3483\u001b[0m     ) \u001b[39mfrom\u001b[39;00m \u001b[39mNone\u001b[39;00m\n",
      "File \u001b[0;32m~/Developer/git-repos/dotless/env/lib/python3.11/site-packages/datasets/arrow_dataset.py:3353\u001b[0m, in \u001b[0;36mDataset._map_single.<locals>.apply_function_on_filtered_inputs\u001b[0;34m(pa_inputs, indices, check_same_num_examples, offset)\u001b[0m\n\u001b[1;32m   3351\u001b[0m \u001b[39mif\u001b[39;00m with_rank:\n\u001b[1;32m   3352\u001b[0m     additional_args \u001b[39m+\u001b[39m\u001b[39m=\u001b[39m (rank,)\n\u001b[0;32m-> 3353\u001b[0m processed_inputs \u001b[39m=\u001b[39m function(\u001b[39m*\u001b[39;49mfn_args, \u001b[39m*\u001b[39;49madditional_args, \u001b[39m*\u001b[39;49m\u001b[39m*\u001b[39;49mfn_kwargs)\n\u001b[1;32m   3354\u001b[0m \u001b[39mif\u001b[39;00m \u001b[39misinstance\u001b[39m(processed_inputs, LazyDict):\n\u001b[1;32m   3355\u001b[0m     processed_inputs \u001b[39m=\u001b[39m {\n\u001b[1;32m   3356\u001b[0m         k: v \u001b[39mfor\u001b[39;00m k, v \u001b[39min\u001b[39;00m processed_inputs\u001b[39m.\u001b[39mdata\u001b[39m.\u001b[39mitems() \u001b[39mif\u001b[39;00m k \u001b[39mnot\u001b[39;00m \u001b[39min\u001b[39;00m processed_inputs\u001b[39m.\u001b[39mkeys_to_format\n\u001b[1;32m   3357\u001b[0m     }\n",
      "\u001b[1;32m/Users/ammar/Developer/git-repos/dotless/Models/Model v3/masking.ipynb Cell 17\u001b[0m line \u001b[0;36m1\n\u001b[1;32m     <a href='vscode-notebook-cell:/Users/ammar/Developer/git-repos/dotless/Models/Model%20v3/masking.ipynb#X26sZmlsZQ%3D%3D?line=11'>12</a>\u001b[0m \u001b[39mif\u001b[39;00m i \u001b[39m==\u001b[39m index:\n\u001b[1;32m     <a href='vscode-notebook-cell:/Users/ammar/Developer/git-repos/dotless/Models/Model%20v3/masking.ipynb#X26sZmlsZQ%3D%3D?line=12'>13</a>\u001b[0m     word_to_replace \u001b[39m=\u001b[39m words[i]\n\u001b[0;32m---> <a href='vscode-notebook-cell:/Users/ammar/Developer/git-repos/dotless/Models/Model%20v3/masking.ipynb#X26sZmlsZQ%3D%3D?line=13'>14</a>\u001b[0m     variations \u001b[39m=\u001b[39m uMap_allVariation(uMap_parse_dotless_text(word_to_replace))\n\u001b[1;32m     <a href='vscode-notebook-cell:/Users/ammar/Developer/git-repos/dotless/Models/Model%20v3/masking.ipynb#X26sZmlsZQ%3D%3D?line=14'>15</a>\u001b[0m     words[i] \u001b[39m=\u001b[39m \u001b[39m\"\u001b[39m\u001b[39m[MASK]\u001b[39m\u001b[39m\"\u001b[39m\n\u001b[1;32m     <a href='vscode-notebook-cell:/Users/ammar/Developer/git-repos/dotless/Models/Model%20v3/masking.ipynb#X26sZmlsZQ%3D%3D?line=15'>16</a>\u001b[0m     modified_string \u001b[39m=\u001b[39m \u001b[39m'\u001b[39m\u001b[39m \u001b[39m\u001b[39m'\u001b[39m\u001b[39m.\u001b[39mjoin(words)\n",
      "\u001b[1;32m/Users/ammar/Developer/git-repos/dotless/Models/Model v3/masking.ipynb Cell 17\u001b[0m line \u001b[0;36m9\n\u001b[1;32m      <a href='vscode-notebook-cell:/Users/ammar/Developer/git-repos/dotless/Models/Model%20v3/masking.ipynb#X26sZmlsZQ%3D%3D?line=6'>7</a>\u001b[0m vWord \u001b[39m=\u001b[39m \u001b[39m'\u001b[39m\u001b[39m'\u001b[39m\u001b[39m.\u001b[39mjoin(word)\n\u001b[1;32m      <a href='vscode-notebook-cell:/Users/ammar/Developer/git-repos/dotless/Models/Model%20v3/masking.ipynb#X26sZmlsZQ%3D%3D?line=7'>8</a>\u001b[0m \u001b[39mif\u001b[39;00m i \u001b[39m!=\u001b[39m \u001b[39mlen\u001b[39m(word) \u001b[39m-\u001b[39m \u001b[39m1\u001b[39m:\n\u001b[0;32m----> <a href='vscode-notebook-cell:/Users/ammar/Developer/git-repos/dotless/Models/Model%20v3/masking.ipynb#X26sZmlsZQ%3D%3D?line=8'>9</a>\u001b[0m     tWord\u001b[39m.\u001b[39mextend(uMap_allVariation(vWord, i\u001b[39m+\u001b[39;49m\u001b[39m1\u001b[39;49m))\n\u001b[1;32m     <a href='vscode-notebook-cell:/Users/ammar/Developer/git-repos/dotless/Models/Model%20v3/masking.ipynb#X26sZmlsZQ%3D%3D?line=9'>10</a>\u001b[0m \u001b[39melse\u001b[39;00m:\n\u001b[1;32m     <a href='vscode-notebook-cell:/Users/ammar/Developer/git-repos/dotless/Models/Model%20v3/masking.ipynb#X26sZmlsZQ%3D%3D?line=10'>11</a>\u001b[0m     \u001b[39m#if vWord in dictionary:\u001b[39;00m\n\u001b[1;32m     <a href='vscode-notebook-cell:/Users/ammar/Developer/git-repos/dotless/Models/Model%20v3/masking.ipynb#X26sZmlsZQ%3D%3D?line=11'>12</a>\u001b[0m     tWord\u001b[39m.\u001b[39mappend(vWord)\n",
      "\u001b[1;32m/Users/ammar/Developer/git-repos/dotless/Models/Model v3/masking.ipynb Cell 17\u001b[0m line \u001b[0;36m9\n\u001b[1;32m      <a href='vscode-notebook-cell:/Users/ammar/Developer/git-repos/dotless/Models/Model%20v3/masking.ipynb#X26sZmlsZQ%3D%3D?line=6'>7</a>\u001b[0m vWord \u001b[39m=\u001b[39m \u001b[39m'\u001b[39m\u001b[39m'\u001b[39m\u001b[39m.\u001b[39mjoin(word)\n\u001b[1;32m      <a href='vscode-notebook-cell:/Users/ammar/Developer/git-repos/dotless/Models/Model%20v3/masking.ipynb#X26sZmlsZQ%3D%3D?line=7'>8</a>\u001b[0m \u001b[39mif\u001b[39;00m i \u001b[39m!=\u001b[39m \u001b[39mlen\u001b[39m(word) \u001b[39m-\u001b[39m \u001b[39m1\u001b[39m:\n\u001b[0;32m----> <a href='vscode-notebook-cell:/Users/ammar/Developer/git-repos/dotless/Models/Model%20v3/masking.ipynb#X26sZmlsZQ%3D%3D?line=8'>9</a>\u001b[0m     tWord\u001b[39m.\u001b[39mextend(uMap_allVariation(vWord, i\u001b[39m+\u001b[39;49m\u001b[39m1\u001b[39;49m))\n\u001b[1;32m     <a href='vscode-notebook-cell:/Users/ammar/Developer/git-repos/dotless/Models/Model%20v3/masking.ipynb#X26sZmlsZQ%3D%3D?line=9'>10</a>\u001b[0m \u001b[39melse\u001b[39;00m:\n\u001b[1;32m     <a href='vscode-notebook-cell:/Users/ammar/Developer/git-repos/dotless/Models/Model%20v3/masking.ipynb#X26sZmlsZQ%3D%3D?line=10'>11</a>\u001b[0m     \u001b[39m#if vWord in dictionary:\u001b[39;00m\n\u001b[1;32m     <a href='vscode-notebook-cell:/Users/ammar/Developer/git-repos/dotless/Models/Model%20v3/masking.ipynb#X26sZmlsZQ%3D%3D?line=11'>12</a>\u001b[0m     tWord\u001b[39m.\u001b[39mappend(vWord)\n",
      "    \u001b[0;31m[... skipping similar frames: uMap_allVariation at line 9 (7 times)]\u001b[0m\n",
      "\u001b[1;32m/Users/ammar/Developer/git-repos/dotless/Models/Model v3/masking.ipynb Cell 17\u001b[0m line \u001b[0;36m9\n\u001b[1;32m      <a href='vscode-notebook-cell:/Users/ammar/Developer/git-repos/dotless/Models/Model%20v3/masking.ipynb#X26sZmlsZQ%3D%3D?line=6'>7</a>\u001b[0m vWord \u001b[39m=\u001b[39m \u001b[39m'\u001b[39m\u001b[39m'\u001b[39m\u001b[39m.\u001b[39mjoin(word)\n\u001b[1;32m      <a href='vscode-notebook-cell:/Users/ammar/Developer/git-repos/dotless/Models/Model%20v3/masking.ipynb#X26sZmlsZQ%3D%3D?line=7'>8</a>\u001b[0m \u001b[39mif\u001b[39;00m i \u001b[39m!=\u001b[39m \u001b[39mlen\u001b[39m(word) \u001b[39m-\u001b[39m \u001b[39m1\u001b[39m:\n\u001b[0;32m----> <a href='vscode-notebook-cell:/Users/ammar/Developer/git-repos/dotless/Models/Model%20v3/masking.ipynb#X26sZmlsZQ%3D%3D?line=8'>9</a>\u001b[0m     tWord\u001b[39m.\u001b[39mextend(uMap_allVariation(vWord, i\u001b[39m+\u001b[39;49m\u001b[39m1\u001b[39;49m))\n\u001b[1;32m     <a href='vscode-notebook-cell:/Users/ammar/Developer/git-repos/dotless/Models/Model%20v3/masking.ipynb#X26sZmlsZQ%3D%3D?line=9'>10</a>\u001b[0m \u001b[39melse\u001b[39;00m:\n\u001b[1;32m     <a href='vscode-notebook-cell:/Users/ammar/Developer/git-repos/dotless/Models/Model%20v3/masking.ipynb#X26sZmlsZQ%3D%3D?line=10'>11</a>\u001b[0m     \u001b[39m#if vWord in dictionary:\u001b[39;00m\n\u001b[1;32m     <a href='vscode-notebook-cell:/Users/ammar/Developer/git-repos/dotless/Models/Model%20v3/masking.ipynb#X26sZmlsZQ%3D%3D?line=11'>12</a>\u001b[0m     tWord\u001b[39m.\u001b[39mappend(vWord)\n",
      "\u001b[1;32m/Users/ammar/Developer/git-repos/dotless/Models/Model v3/masking.ipynb Cell 17\u001b[0m line \u001b[0;36m7\n\u001b[1;32m      <a href='vscode-notebook-cell:/Users/ammar/Developer/git-repos/dotless/Models/Model%20v3/masking.ipynb#X26sZmlsZQ%3D%3D?line=4'>5</a>\u001b[0m \u001b[39mfor\u001b[39;00m dot \u001b[39min\u001b[39;00m iLetters[char]:\n\u001b[1;32m      <a href='vscode-notebook-cell:/Users/ammar/Developer/git-repos/dotless/Models/Model%20v3/masking.ipynb#X26sZmlsZQ%3D%3D?line=5'>6</a>\u001b[0m     word[i] \u001b[39m=\u001b[39m dot\n\u001b[0;32m----> <a href='vscode-notebook-cell:/Users/ammar/Developer/git-repos/dotless/Models/Model%20v3/masking.ipynb#X26sZmlsZQ%3D%3D?line=6'>7</a>\u001b[0m     vWord \u001b[39m=\u001b[39m \u001b[39m'\u001b[39m\u001b[39m'\u001b[39m\u001b[39m.\u001b[39mjoin(word)\n\u001b[1;32m      <a href='vscode-notebook-cell:/Users/ammar/Developer/git-repos/dotless/Models/Model%20v3/masking.ipynb#X26sZmlsZQ%3D%3D?line=7'>8</a>\u001b[0m     \u001b[39mif\u001b[39;00m i \u001b[39m!=\u001b[39m \u001b[39mlen\u001b[39m(word) \u001b[39m-\u001b[39m \u001b[39m1\u001b[39m:\n\u001b[1;32m      <a href='vscode-notebook-cell:/Users/ammar/Developer/git-repos/dotless/Models/Model%20v3/masking.ipynb#X26sZmlsZQ%3D%3D?line=8'>9</a>\u001b[0m         tWord\u001b[39m.\u001b[39mextend(uMap_allVariation(vWord, i\u001b[39m+\u001b[39m\u001b[39m1\u001b[39m))\n",
      "\u001b[0;31mKeyboardInterrupt\u001b[0m: "
     ]
    }
   ],
   "source": [
    "m_dataset = n_dataset.map(map_mask_random_word, batched= True, remove_columns=\"clean\") #Apply the function (convert dotted to dotless)\n"
   ]
  },
  {
   "cell_type": "code",
   "execution_count": 105,
   "metadata": {},
   "outputs": [
    {
     "name": "stdout",
     "output_type": "stream",
     "text": [
      "Dataset({\n",
      "    features: ['Masked', 'Options', 'Target'],\n",
      "    num_rows: 10000\n",
      "})\n"
     ]
    },
    {
     "data": {
      "text/plain": [
       "{'Masked': 'زكريا محيي الدين [MASK] بن شرف النووي المتوفى ه ج ص',\n",
       " 'Options': ['يجيي',\n",
       "  'يجيى',\n",
       "  'يجيئ',\n",
       "  'يجىي',\n",
       "  'يجىى',\n",
       "  'يجىئ',\n",
       "  'يجئي',\n",
       "  'يجئى',\n",
       "  'يجئئ',\n",
       "  'يحيي',\n",
       "  'يحيى',\n",
       "  'يحيئ',\n",
       "  'يحىي',\n",
       "  'يحىى',\n",
       "  'يحىئ',\n",
       "  'يحئي',\n",
       "  'يحئى',\n",
       "  'يحئئ',\n",
       "  'يخيي',\n",
       "  'يخيى',\n",
       "  'يخيئ',\n",
       "  'يخىي',\n",
       "  'يخىى',\n",
       "  'يخىئ',\n",
       "  'يخئي',\n",
       "  'يخئى',\n",
       "  'يخئئ',\n",
       "  'ىجيي',\n",
       "  'ىجيى',\n",
       "  'ىجيئ',\n",
       "  'ىجىي',\n",
       "  'ىجىى',\n",
       "  'ىجىئ',\n",
       "  'ىجئي',\n",
       "  'ىجئى',\n",
       "  'ىجئئ',\n",
       "  'ىحيي',\n",
       "  'ىحيى',\n",
       "  'ىحيئ',\n",
       "  'ىحىي',\n",
       "  'ىحىى',\n",
       "  'ىحىئ',\n",
       "  'ىحئي',\n",
       "  'ىحئى',\n",
       "  'ىحئئ',\n",
       "  'ىخيي',\n",
       "  'ىخيى',\n",
       "  'ىخيئ',\n",
       "  'ىخىي',\n",
       "  'ىخىى',\n",
       "  'ىخىئ',\n",
       "  'ىخئي',\n",
       "  'ىخئى',\n",
       "  'ىخئئ',\n",
       "  'ئجيي',\n",
       "  'ئجيى',\n",
       "  'ئجيئ',\n",
       "  'ئجىي',\n",
       "  'ئجىى',\n",
       "  'ئجىئ',\n",
       "  'ئجئي',\n",
       "  'ئجئى',\n",
       "  'ئجئئ',\n",
       "  'ئحيي',\n",
       "  'ئحيى',\n",
       "  'ئحيئ',\n",
       "  'ئحىي',\n",
       "  'ئحىى',\n",
       "  'ئحىئ',\n",
       "  'ئحئي',\n",
       "  'ئحئى',\n",
       "  'ئحئئ',\n",
       "  'ئخيي',\n",
       "  'ئخيى',\n",
       "  'ئخيئ',\n",
       "  'ئخىي',\n",
       "  'ئخىى',\n",
       "  'ئخىئ',\n",
       "  'ئخئي',\n",
       "  'ئخئى',\n",
       "  'ئخئئ'],\n",
       " 'Target': 'يحيى'}"
      ]
     },
     "execution_count": 105,
     "metadata": {},
     "output_type": "execute_result"
    }
   ],
   "source": [
    "print(m_dataset)\n",
    "m_dataset[0]\n"
   ]
  },
  {
   "cell_type": "code",
   "execution_count": 106,
   "metadata": {},
   "outputs": [
    {
     "data": {
      "text/plain": [
       "DatasetDict({\n",
       "    train: Dataset({\n",
       "        features: ['Masked', 'Options', 'Target'],\n",
       "        num_rows: 9999\n",
       "    })\n",
       "})"
      ]
     },
     "execution_count": 106,
     "metadata": {},
     "output_type": "execute_result"
    }
   ],
   "source": [
    "dataset_resplit = m_dataset.train_test_split(train_size= 0.999999999) #create 80/20 split into train and test datasets\n",
    "del dataset_resplit['test'] # no longer using a test set\n",
    "dataset_resplit\n"
   ]
  },
  {
   "cell_type": "code",
   "execution_count": null,
   "metadata": {},
   "outputs": [],
   "source": []
  },
  {
   "cell_type": "code",
   "execution_count": null,
   "metadata": {},
   "outputs": [],
   "source": []
  }
 ],
 "metadata": {
  "kernelspec": {
   "display_name": "Python 3",
   "language": "python",
   "name": "python3"
  },
  "language_info": {
   "codemirror_mode": {
    "name": "ipython",
    "version": 3
   },
   "file_extension": ".py",
   "mimetype": "text/x-python",
   "name": "python",
   "nbconvert_exporter": "python",
   "pygments_lexer": "ipython3",
   "version": "3.11.6"
  }
 },
 "nbformat": 4,
 "nbformat_minor": 2
}
