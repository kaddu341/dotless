{
 "cells": [
  {
   "cell_type": "code",
   "execution_count": 18,
   "metadata": {},
   "outputs": [],
   "source": [
    "from datasets import *\n",
    "from transformers import AutoTokenizer\n",
    "\n",
    "from tokenizers import (\n",
    "    decoders,\n",
    "    models,\n",
    "    normalizers,\n",
    "    pre_tokenizers,\n",
    "    processors,\n",
    "    trainers,\n",
    "    Tokenizer,\n",
    ")\n",
    "\n",
    "from huggingface_hub import notebook_login\n"
   ]
  },
  {
   "cell_type": "code",
   "execution_count": 19,
   "metadata": {},
   "outputs": [],
   "source": [
    "raw_datasets = load_from_disk(\"AR-dotted-2MediumPlus-arrow\")"
   ]
  },
  {
   "cell_type": "code",
   "execution_count": 20,
   "metadata": {},
   "outputs": [
    {
     "name": "stdout",
     "output_type": "stream",
     "text": [
      "DatasetDict({\n",
      "    train: Dataset({\n",
      "        features: ['clean'],\n",
      "        num_rows: 6060645\n",
      "    })\n",
      "}) \n",
      "\n",
      "{'clean': 'إلى اقتصاد مزدهر يوفر فرصا للجميع من خلال بنا نظام تعليمي يتوافق'}\n"
     ]
    }
   ],
   "source": [
    "print(raw_datasets, '\\n')\n",
    "print(raw_datasets['train'][0])"
   ]
  },
  {
   "cell_type": "code",
   "execution_count": 21,
   "metadata": {},
   "outputs": [],
   "source": [
    "checkpoint = \"distilbert-base-multilingual-cased\"\n",
    "old_tokenizer = AutoTokenizer.from_pretrained(checkpoint)"
   ]
  },
  {
   "cell_type": "code",
   "execution_count": 22,
   "metadata": {},
   "outputs": [
    {
     "data": {
      "text/plain": [
       "119547"
      ]
     },
     "execution_count": 22,
     "metadata": {},
     "output_type": "execute_result"
    }
   ],
   "source": [
    "old_tokenizer.vocab_size"
   ]
  },
  {
   "cell_type": "code",
   "execution_count": 23,
   "metadata": {},
   "outputs": [],
   "source": [
    "def get_training_corpus():\n",
    "    dataset = raw_datasets[\"train\"]\n",
    "    for start_idx in range(0, len(dataset), 1000):\n",
    "        samples = dataset[start_idx : start_idx + 1000]\n",
    "        yield samples['clean']\n",
    "        \n",
    "training_corpus = get_training_corpus()\n",
    "\n"
   ]
  },
  {
   "cell_type": "code",
   "execution_count": 24,
   "metadata": {},
   "outputs": [
    {
     "name": "stdout",
     "output_type": "stream",
     "text": [
      "\n",
      "\n",
      "\n"
     ]
    }
   ],
   "source": [
    "tokenizer = old_tokenizer.train_new_from_iterator(training_corpus, vocab_size=30000)\n"
   ]
  },
  {
   "cell_type": "code",
   "execution_count": 26,
   "metadata": {},
   "outputs": [
    {
     "data": {
      "text/plain": [
       "30000"
      ]
     },
     "execution_count": 26,
     "metadata": {},
     "output_type": "execute_result"
    }
   ],
   "source": [
    "tokenizer.vocab_size"
   ]
  },
  {
   "cell_type": "code",
   "execution_count": 27,
   "metadata": {},
   "outputs": [],
   "source": [
    "test_c = \"ذهب أحمد إلى المسجد\""
   ]
  },
  {
   "cell_type": "code",
   "execution_count": 28,
   "metadata": {},
   "outputs": [
    {
     "name": "stdout",
     "output_type": "stream",
     "text": [
      "{'input_ids': [2, 4051, 1122, 137, 3440, 3], 'attention_mask': [1, 1, 1, 1, 1, 1]}\n",
      "['[CLS]', 'ذهب', 'أحمد', 'إلى', 'المسجد', '[SEP]']\n",
      "ذهب أحمد إلى المسجد\n"
     ]
    }
   ],
   "source": [
    "inputs_c = tokenizer(test_c)\n",
    "tokens_c = tokenizer.tokenize(test_c)\n",
    "print(inputs_c)\n",
    "print(tokenizer.convert_ids_to_tokens(inputs_c[\"input_ids\"]))\n",
    "print(test_c)\n",
    "\n"
   ]
  },
  {
   "cell_type": "code",
   "execution_count": 29,
   "metadata": {},
   "outputs": [
    {
     "name": "stdout",
     "output_type": "stream",
     "text": [
      "{'input_ids': [2, 4051, 1122, 137, 3440, 3], 'attention_mask': [1, 1, 1, 1, 1, 1]}\n",
      "['[CLS]', 'ذهب', 'أحمد', 'إلى', 'المسجد', '[SEP]']\n",
      "[None, 0, 1, 2, 3, None]\n"
     ]
    }
   ],
   "source": [
    "encoding = tokenizer(test_c)\n",
    "print(encoding)\n",
    "\n",
    "print(encoding.tokens())\n",
    "print(encoding.word_ids())"
   ]
  },
  {
   "cell_type": "code",
   "execution_count": 30,
   "metadata": {},
   "outputs": [
    {
     "data": {
      "text/plain": [
       "('AR-dotted-tokenizer/tokenizer_config.json',\n",
       " 'AR-dotted-tokenizer/special_tokens_map.json',\n",
       " 'AR-dotted-tokenizer/vocab.txt',\n",
       " 'AR-dotted-tokenizer/added_tokens.json',\n",
       " 'AR-dotted-tokenizer/tokenizer.json')"
      ]
     },
     "execution_count": 30,
     "metadata": {},
     "output_type": "execute_result"
    }
   ],
   "source": [
    "tokenizer.save_pretrained(\"AR-dotted-tokenizer\")\n"
   ]
  },
  {
   "cell_type": "code",
   "execution_count": 31,
   "metadata": {},
   "outputs": [
    {
     "data": {
      "text/plain": [
       "CommitInfo(commit_url='https://huggingface.co/dot-ammar/AR-dotted-tokenizer/commit/d99ea860813654ccfc8c0eb78022c1d785015ba5', commit_message='Upload tokenizer', commit_description='', oid='d99ea860813654ccfc8c0eb78022c1d785015ba5', pr_url=None, pr_revision=None, pr_num=None)"
      ]
     },
     "execution_count": 31,
     "metadata": {},
     "output_type": "execute_result"
    }
   ],
   "source": [
    "tokenizer.push_to_hub(\"AR-dotted-tokenizer\")\n"
   ]
  },
  {
   "cell_type": "code",
   "execution_count": null,
   "metadata": {},
   "outputs": [],
   "source": [
    "\n"
   ]
  },
  {
   "cell_type": "code",
   "execution_count": null,
   "metadata": {},
   "outputs": [],
   "source": []
  }
 ],
 "metadata": {
  "kernelspec": {
   "display_name": "Python 3",
   "language": "python",
   "name": "python3"
  },
  "language_info": {
   "codemirror_mode": {
    "name": "ipython",
    "version": 3
   },
   "file_extension": ".py",
   "mimetype": "text/x-python",
   "name": "python",
   "nbconvert_exporter": "python",
   "pygments_lexer": "ipython3",
   "version": "3.11.8"
  },
  "orig_nbformat": 4
 },
 "nbformat": 4,
 "nbformat_minor": 2
}
