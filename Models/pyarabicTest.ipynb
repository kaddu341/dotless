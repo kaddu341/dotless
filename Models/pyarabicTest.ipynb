{
 "cells": [
  {
   "cell_type": "markdown",
   "metadata": {},
   "source": [
    "### Ignore this stuff, a bunch of tests. "
   ]
  },
  {
   "cell_type": "code",
   "execution_count": 1,
   "metadata": {},
   "outputs": [],
   "source": [
    "\n",
    "import numpy as np\n",
    "import re\n",
    "import sys\n",
    "\n",
    "from datasets import *\n",
    "from transformers import AutoTokenizer\n",
    "\n",
    "from tokenizers import (\n",
    "    decoders,\n",
    "    models,\n",
    "    normalizers,\n",
    "    pre_tokenizers,\n",
    "    processors,\n",
    "    trainers,\n",
    "    Tokenizer,\n",
    ")\n",
    "\n",
    "from huggingface_hub import notebook_login\n",
    "\n",
    "from datasets import *\n",
    "import numpy as np\n",
    "import re\n",
    "import random"
   ]
  },
  {
   "cell_type": "code",
   "execution_count": 2,
   "metadata": {},
   "outputs": [],
   "source": [
    "def digitArabic(input_string):\n",
    "    # regex to match numerical numbers\n",
    "    pattern = r'\\b\\d+\\b'\n",
    "    \n",
    "    # numerical numbers in string\n",
    "    numerical_numbers = re.findall(pattern, input_string)\n",
    "    \n",
    "    # replace them with Arabic word representation\n",
    "    for num in numerical_numbers:\n",
    "        arabic_word = number.number2ordinal(int(num))\n",
    "        input_string = input_string.replace(num, arabic_word)\n",
    "    \n",
    "    return input_string\n"
   ]
  },
  {
   "cell_type": "code",
   "execution_count": 3,
   "metadata": {},
   "outputs": [],
   "source": [
    "def parse_text(text):\n",
    "  text = text.strip()\n",
    "  \n",
    "  clean_chars = [char for char in text if char in letter_set]\n",
    "  clean_string = ''.join(clean_chars)\n",
    "\n",
    "  output_chars = [letter_dict[char] for char in clean_chars]\n",
    "  output_string = ''.join(output_chars)\n",
    "      \n",
    "  clean_string = replace(clean_string, ' ')\n",
    "  output_string = replace(output_string, '_')\n",
    "  \n",
    "  return(clean_string, output_string)"
   ]
  },
  {
   "cell_type": "code",
   "execution_count": 4,
   "metadata": {},
   "outputs": [],
   "source": [
    "# Replaces multiple spaces, or whatever char designated by the perameter into one char. (helper function)\n",
    "def replace(string, char):\n",
    "    while char+char in string:\n",
    "        string = string.replace(char+char, char)\n",
    "\n",
    "    return string\n"
   ]
  },
  {
   "cell_type": "code",
   "execution_count": 5,
   "metadata": {},
   "outputs": [],
   "source": [
    "def reverse_dict_with_duplicates(input_dict):\n",
    "    reversed_dict = {}\n",
    "    \n",
    "    for key, value in input_dict.items():\n",
    "        if value not in reversed_dict:\n",
    "            reversed_dict[value] = [key]\n",
    "        else:\n",
    "            reversed_dict[value].append(key)\n",
    "    \n",
    "    return reversed_dict\n",
    "\n"
   ]
  },
  {
   "cell_type": "code",
   "execution_count": 6,
   "metadata": {},
   "outputs": [],
   "source": [
    "\n",
    "letter_dict = {\n",
    "    \"ا\": \"ا\",\n",
    "    \"أ\": \"ا\",\n",
    "    \"إ\": \"ا\",\n",
    "    \"آ\": \"ا\",\n",
    "    \"ب\": \"ب\",\n",
    "    \"ت\": \"ب\",\n",
    "    \"ث\": \"ب\",\n",
    "    \"ج\": \"ح\",\n",
    "    \"ح\": \"ح\",\n",
    "    \"خ\": \"ح\",\n",
    "    \"د\": \"د\",\n",
    "    \"ذ\": \"د\",\n",
    "    \"ر\": \"ر\",\n",
    "    \"ز\": \"ر\",\n",
    "    \"س\": \"س\",\n",
    "    \"ش\": \"س\",\n",
    "    \"ص\": \"ص\",\n",
    "    \"ض\": \"ص\",\n",
    "    \"ط\": \"ط\",\n",
    "    \"ظ\": \"ط\",\n",
    "    \"ع\": \"ع\",\n",
    "    \"غ\": \"ع\",\n",
    "    \"ف\": \"ف\",\n",
    "    \"ق\": \"ف\",\n",
    "    \"ك\": \"ك\",\n",
    "    \"ل\": \"ل\",\n",
    "    \"م\": \"م\",\n",
    "    \"ن\": \"ن\",\n",
    "    \"و\": \"و\",\n",
    "    \"ؤ\": \"و\",\n",
    "    \"ه\": \"ه\",\n",
    "    \"ة\": \"ه\",\n",
    "    \"ي\": \"ى\",\n",
    "    \"ى\": \"ى\",\n",
    "    \"ئ\": \"ى\",\n",
    "    \" \": \"_\",\n",
    "    \n",
    "}\n",
    "letter_set = set(letter_dict.keys())\n",
    "iLetters = reverse_dict_with_duplicates(letter_dict)"
   ]
  },
  {
   "cell_type": "code",
   "execution_count": 7,
   "metadata": {},
   "outputs": [],
   "source": [
    "#Arabic wordlist into set\n",
    "#with open('arabic-wordlist-1.6.txt', 'r') as f:\n",
    "#    dictionary = set(f.read().splitlines())\n",
    "\n"
   ]
  },
  {
   "cell_type": "code",
   "execution_count": 8,
   "metadata": {},
   "outputs": [],
   "source": [
    "def allVariation(root, i = 0):\n",
    "    tWord = []\n",
    "    word = [a for a in root]\n",
    "    char = word[i]\n",
    "    for dot in iLetters[char]:\n",
    "        word[i] = dot\n",
    "        vWord = ''.join(word)\n",
    "        if i != len(word) - 1:\n",
    "            tWord.extend(allVariation(vWord, i+1))\n",
    "        else:\n",
    "            #if vWord in dictionary:\n",
    "            tWord.append(vWord)\n",
    "    return tWord"
   ]
  },
  {
   "cell_type": "code",
   "execution_count": 9,
   "metadata": {},
   "outputs": [
    {
     "name": "stdout",
     "output_type": "stream",
     "text": [
      "['معبدل', 'معبذل', 'معتدل', 'معتذل', 'معثدل', 'معثذل', 'مغبدل', 'مغبذل', 'مغتدل', 'مغتذل', 'مغثدل', 'مغثذل']\n",
      "Length: 12\n",
      "Duplicates: False\n"
     ]
    }
   ],
   "source": [
    "new = allVariation(parse_text(\"معتدل\")[1])\n",
    "print(new)\n",
    "print(\"Length:\", len(new))\n",
    "print(\"Duplicates:\", len(new) != len(set(new)))"
   ]
  },
  {
   "cell_type": "code",
   "execution_count": null,
   "metadata": {},
   "outputs": [],
   "source": [
    "def map_mask_random_word(example):\n",
    "    masked = []\n",
    "    options = []\n",
    "    targets = []\n",
    "    \n",
    "    print(example)\n",
    "    \n",
    "    for text in example[\"clean\"]:\n",
    "        words = text.split()\n",
    "        seed = 1\n",
    "        random.seed(seed)\n",
    "        #print(\"from mask\", words)\n",
    "        index = random.randint(0, len(words) - 1)\n",
    "\n",
    "        for word in words:\n",
    "            index = random.randint(0, len(words) - 1)\n",
    "            \n",
    "            #print(\"from mask\", words)\n",
    "            #print(\"from mask\", word)\n",
    "            \n",
    "\n",
    "            word_to_replace = words[index]\n",
    "            #print(\"from mask\", word_to_replace)\n",
    "            \n",
    "            variations = uMap_allVariation(uMap_parse_dotless_text(word_to_replace))\n",
    "        \n",
    "            masked_strings = words.copy()\n",
    "            masked_strings[index] = \"[MASK]\"\n",
    "            \n",
    "            modified_string = ' '.join(masked_strings)\n",
    "            \n",
    "            \n",
    "            masked.append(modified_string)\n",
    "            options.append(variations)\n",
    "            targets.append(word_to_replace)\n",
    "    \n",
    "    return{\"Masked\": masked, \"Options\": options, \"Target\": targets}\n",
    "\n"
   ]
  },
  {
   "cell_type": "code",
   "execution_count": 2,
   "metadata": {},
   "outputs": [],
   "source": [
    "from datasets import *\n"
   ]
  },
  {
   "cell_type": "code",
   "execution_count": 3,
   "metadata": {},
   "outputs": [],
   "source": [
    "dataset = load_from_disk(\"/Users/ammar/Developer/git-repos/dotless/Models/Model v3/AR-dotted-MediumPlus-arrow\")"
   ]
  },
  {
   "cell_type": "code",
   "execution_count": 4,
   "metadata": {},
   "outputs": [
    {
     "data": {
      "text/plain": [
       "DatasetDict({\n",
       "    train: Dataset({\n",
       "        features: ['clean'],\n",
       "        num_rows: 2980842\n",
       "    })\n",
       "})"
      ]
     },
     "execution_count": 4,
     "metadata": {},
     "output_type": "execute_result"
    }
   ],
   "source": [
    "dataset"
   ]
  },
  {
   "cell_type": "code",
   "execution_count": null,
   "metadata": {},
   "outputs": [],
   "source": []
  }
 ],
 "metadata": {
  "kernelspec": {
   "display_name": "Python 3",
   "language": "python",
   "name": "python3"
  },
  "language_info": {
   "codemirror_mode": {
    "name": "ipython",
    "version": 3
   },
   "file_extension": ".py",
   "mimetype": "text/x-python",
   "name": "python",
   "nbconvert_exporter": "python",
   "pygments_lexer": "ipython3",
   "version": "3.11.6"
  },
  "orig_nbformat": 4
 },
 "nbformat": 4,
 "nbformat_minor": 2
}
