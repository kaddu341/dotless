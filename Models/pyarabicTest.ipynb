{
 "cells": [
  {
   "cell_type": "markdown",
   "metadata": {},
   "source": [
    "### Ignore this stuff, a bunch of tests. "
   ]
  },
  {
   "cell_type": "code",
   "execution_count": 14,
   "metadata": {},
   "outputs": [],
   "source": [
    "import pyarabic.araby as araby\n",
    "import pyarabic.number as number\n",
    "import numpy as np\n",
    "import re\n",
    "import sys\n"
   ]
  },
  {
   "cell_type": "code",
   "execution_count": 15,
   "metadata": {},
   "outputs": [],
   "source": [
    "def digitArabic(input_string):\n",
    "    # regex to match numerical numbers\n",
    "    pattern = r'\\b\\d+\\b'\n",
    "    \n",
    "    # numerical numbers in string\n",
    "    numerical_numbers = re.findall(pattern, input_string)\n",
    "    \n",
    "    # replace them with Arabic word representation\n",
    "    for num in numerical_numbers:\n",
    "        arabic_word = number.number2ordinal(int(num))\n",
    "        input_string = input_string.replace(num, arabic_word)\n",
    "    \n",
    "    return input_string\n"
   ]
  },
  {
   "cell_type": "code",
   "execution_count": 16,
   "metadata": {},
   "outputs": [
    {
     "name": "stdout",
     "output_type": "stream",
     "text": [
      "الرابع\n",
      "الثالث عشرة\n",
      "المئة والثالث\n"
     ]
    }
   ],
   "source": [
    "print(digitArabic(\"4\"))\n",
    "print(digitArabic(\"13\"))\n",
    "print(digitArabic(\"103\"))\n"
   ]
  },
  {
   "cell_type": "code",
   "execution_count": 17,
   "metadata": {},
   "outputs": [],
   "source": [
    "def parse_text(text):\n",
    "  text = text.strip()\n",
    "  text = digitArabic(text)\n",
    "  \n",
    "  clean_chars = [char for char in text if char in letter_set]\n",
    "  clean_string = ''.join(clean_chars)\n",
    "\n",
    "  output_chars = [letter_dict[char] for char in clean_chars]\n",
    "  output_string = ''.join(output_chars)\n",
    "      \n",
    "  clean_string = replace(clean_string, ' ')\n",
    "  output_string = replace(output_string, '_')\n",
    "  \n",
    "  return(clean_string, output_string)"
   ]
  },
  {
   "cell_type": "code",
   "execution_count": null,
   "metadata": {},
   "outputs": [],
   "source": [
    "# Replaces multiple spaces, or whatever char designated by the perameter into one char. (helper function)\n",
    "def replace(string, char):\n",
    "    while char+char in string:\n",
    "        string = string.replace(char+char, char)\n",
    "\n",
    "    return string\n"
   ]
  },
  {
   "cell_type": "code",
   "execution_count": 18,
   "metadata": {},
   "outputs": [],
   "source": [
    "def reverse_dict_with_duplicates(input_dict):\n",
    "    reversed_dict = {}\n",
    "    \n",
    "    for key, value in input_dict.items():\n",
    "        if value not in reversed_dict:\n",
    "            reversed_dict[value] = [key]\n",
    "        else:\n",
    "            reversed_dict[value].append(key)\n",
    "    \n",
    "    return reversed_dict\n",
    "\n"
   ]
  },
  {
   "cell_type": "code",
   "execution_count": 19,
   "metadata": {},
   "outputs": [
    {
     "ename": "NameError",
     "evalue": "name 'inverse_dict_with_lists' is not defined",
     "output_type": "error",
     "traceback": [
      "\u001b[0;31m---------------------------------------------------------------------------\u001b[0m",
      "\u001b[0;31mNameError\u001b[0m                                 Traceback (most recent call last)",
      "Cell \u001b[0;32mIn[19], line 41\u001b[0m\n\u001b[1;32m      1\u001b[0m letter_dict \u001b[39m=\u001b[39m {\n\u001b[1;32m      2\u001b[0m     \u001b[39m\"\u001b[39m\u001b[39mا\u001b[39m\u001b[39m\"\u001b[39m: \u001b[39m\"\u001b[39m\u001b[39mا\u001b[39m\u001b[39m\"\u001b[39m,\n\u001b[1;32m      3\u001b[0m     \u001b[39m\"\u001b[39m\u001b[39mأ\u001b[39m\u001b[39m\"\u001b[39m: \u001b[39m\"\u001b[39m\u001b[39mا\u001b[39m\u001b[39m\"\u001b[39m,\n\u001b[0;32m   (...)\u001b[0m\n\u001b[1;32m     38\u001b[0m     \n\u001b[1;32m     39\u001b[0m }\n\u001b[1;32m     40\u001b[0m letter_set \u001b[39m=\u001b[39m \u001b[39mset\u001b[39m(letter_dict\u001b[39m.\u001b[39mkeys())\n\u001b[0;32m---> 41\u001b[0m iLetters \u001b[39m=\u001b[39m inverse_dict_with_lists(letter_dict)\n",
      "\u001b[0;31mNameError\u001b[0m: name 'inverse_dict_with_lists' is not defined"
     ]
    }
   ],
   "source": [
    "\n",
    "letter_dict = {\n",
    "    \"ا\": \"ا\",\n",
    "    \"أ\": \"ا\",\n",
    "    \"إ\": \"ا\",\n",
    "    \"آ\": \"ا\",\n",
    "    \"ب\": \"ب\",\n",
    "    \"ت\": \"ب\",\n",
    "    \"ث\": \"ب\",\n",
    "    \"ج\": \"ح\",\n",
    "    \"ح\": \"ح\",\n",
    "    \"خ\": \"ح\",\n",
    "    \"د\": \"د\",\n",
    "    \"ذ\": \"د\",\n",
    "    \"ر\": \"ر\",\n",
    "    \"ز\": \"ر\",\n",
    "    \"س\": \"س\",\n",
    "    \"ش\": \"س\",\n",
    "    \"ص\": \"ص\",\n",
    "    \"ض\": \"ص\",\n",
    "    \"ط\": \"ط\",\n",
    "    \"ظ\": \"ط\",\n",
    "    \"ع\": \"ع\",\n",
    "    \"غ\": \"ع\",\n",
    "    \"ف\": \"ف\",\n",
    "    \"ق\": \"ف\",\n",
    "    \"ك\": \"ك\",\n",
    "    \"ل\": \"ل\",\n",
    "    \"م\": \"م\",\n",
    "    \"ن\": \"ن\",\n",
    "    \"و\": \"و\",\n",
    "    \"ؤ\": \"و\",\n",
    "    \"ه\": \"ه\",\n",
    "    \"ة\": \"ه\",\n",
    "    \"ي\": \"ى\",\n",
    "    \"ى\": \"ى\",\n",
    "    \"ئ\": \"ى\",\n",
    "    \" \": \"_\",\n",
    "    \n",
    "}\n",
    "letter_set = set(letter_dict.keys())\n",
    "iLetters = inverse_dict_with_lists(letter_dict)"
   ]
  },
  {
   "cell_type": "code",
   "execution_count": 13,
   "metadata": {},
   "outputs": [],
   "source": [
    "#Arabic wordlist into set\n",
    "with open('arabic-wordlist-1.6.txt', 'r') as f:\n",
    "    dictionary = set(f.read().splitlines())\n",
    "\n"
   ]
  },
  {
   "cell_type": "code",
   "execution_count": 22,
   "metadata": {},
   "outputs": [],
   "source": [
    "def allVariation(root, i = 0):\n",
    "    tWord = []\n",
    "    word = [a for a in root]\n",
    "    char = word[i]\n",
    "    for dot in iLetters[char]:\n",
    "        word[i] = dot\n",
    "        vWord = ''.join(word)\n",
    "        if i != len(word) - 1:\n",
    "            tWord.extend(allVariation(vWord, i+1))\n",
    "        else:\n",
    "            if vWord in dictionary:\n",
    "                tWord.append(vWord)\n",
    "    return tWord"
   ]
  },
  {
   "cell_type": "code",
   "execution_count": 23,
   "metadata": {},
   "outputs": [
    {
     "ename": "NameError",
     "evalue": "name 'replace' is not defined",
     "output_type": "error",
     "traceback": [
      "\u001b[0;31m---------------------------------------------------------------------------\u001b[0m",
      "\u001b[0;31mNameError\u001b[0m                                 Traceback (most recent call last)",
      "Cell \u001b[0;32mIn[23], line 1\u001b[0m\n\u001b[0;32m----> 1\u001b[0m new \u001b[39m=\u001b[39m allVariation(parse_text(\u001b[39m\"\u001b[39;49m\u001b[39mجبل\u001b[39;49m\u001b[39m\"\u001b[39;49m)[\u001b[39m1\u001b[39m])\n\u001b[1;32m      2\u001b[0m \u001b[39mprint\u001b[39m(new)\n\u001b[1;32m      3\u001b[0m \u001b[39mprint\u001b[39m(\u001b[39m\"\u001b[39m\u001b[39mLength:\u001b[39m\u001b[39m\"\u001b[39m, \u001b[39mlen\u001b[39m(new))\n",
      "Cell \u001b[0;32mIn[17], line 11\u001b[0m, in \u001b[0;36mparse_text\u001b[0;34m(text)\u001b[0m\n\u001b[1;32m      8\u001b[0m output_chars \u001b[39m=\u001b[39m [letter_dict[char] \u001b[39mfor\u001b[39;00m char \u001b[39min\u001b[39;00m clean_chars]\n\u001b[1;32m      9\u001b[0m output_string \u001b[39m=\u001b[39m \u001b[39m'\u001b[39m\u001b[39m'\u001b[39m\u001b[39m.\u001b[39mjoin(output_chars)\n\u001b[0;32m---> 11\u001b[0m clean_string \u001b[39m=\u001b[39m replace(clean_string, \u001b[39m'\u001b[39m\u001b[39m \u001b[39m\u001b[39m'\u001b[39m)\n\u001b[1;32m     12\u001b[0m output_string \u001b[39m=\u001b[39m replace(output_string, \u001b[39m'\u001b[39m\u001b[39m_\u001b[39m\u001b[39m'\u001b[39m)\n\u001b[1;32m     14\u001b[0m \u001b[39mreturn\u001b[39;00m(clean_string, output_string)\n",
      "\u001b[0;31mNameError\u001b[0m: name 'replace' is not defined"
     ]
    }
   ],
   "source": [
    "new = allVariation(parse_text(\"جبل\")[1])\n",
    "print(new)\n",
    "print(\"Length:\", len(new))\n",
    "print(\"Duplicates:\", len(new) != len(set(new)))"
   ]
  },
  {
   "cell_type": "code",
   "execution_count": null,
   "metadata": {},
   "outputs": [],
   "source": []
  }
 ],
 "metadata": {
  "kernelspec": {
   "display_name": "Python 3",
   "language": "python",
   "name": "python3"
  },
  "language_info": {
   "codemirror_mode": {
    "name": "ipython",
    "version": 3
   },
   "file_extension": ".py",
   "mimetype": "text/x-python",
   "name": "python",
   "nbconvert_exporter": "python",
   "pygments_lexer": "ipython3",
   "version": "3.11.5"
  },
  "orig_nbformat": 4
 },
 "nbformat": 4,
 "nbformat_minor": 2
}
