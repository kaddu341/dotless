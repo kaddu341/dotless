{
 "cells": [
  {
   "cell_type": "markdown",
   "metadata": {},
   "source": [
    "### Ignore this stuff, a bunch of tests. "
   ]
  },
  {
   "cell_type": "code",
   "execution_count": 2,
   "metadata": {},
   "outputs": [],
   "source": [
    "import pyarabic.araby as araby\n",
    "import pyarabic.number as number\n",
    "import numpy as np\n",
    "import re\n",
    "import sys\n"
   ]
  },
  {
   "cell_type": "code",
   "execution_count": 3,
   "metadata": {},
   "outputs": [],
   "source": [
    "def digitArabic(input_string):\n",
    "    # regex to match numerical numbers\n",
    "    pattern = r'\\b\\d+\\b'\n",
    "    \n",
    "    # numerical numbers in string\n",
    "    numerical_numbers = re.findall(pattern, input_string)\n",
    "    \n",
    "    # replace them with Arabic word representation\n",
    "    for num in numerical_numbers:\n",
    "        arabic_word = number.number2ordinal(int(num))\n",
    "        input_string = input_string.replace(num, arabic_word)\n",
    "    \n",
    "    return input_string\n"
   ]
  },
  {
   "cell_type": "code",
   "execution_count": 4,
   "metadata": {},
   "outputs": [
    {
     "name": "stdout",
     "output_type": "stream",
     "text": [
      "الرابع\n",
      "الثالث عشرة\n",
      "المئة والثالث\n"
     ]
    }
   ],
   "source": [
    "print(digitArabic(\"4\"))\n",
    "print(digitArabic(\"13\"))\n",
    "print(digitArabic(\"103\"))\n"
   ]
  },
  {
   "cell_type": "code",
   "execution_count": 5,
   "metadata": {},
   "outputs": [],
   "source": [
    "def parse_text(text):\n",
    "  text = text.strip()\n",
    "  text = digitArabic(text)\n",
    "  \n",
    "  clean_chars = [char for char in text if char in letter_set]\n",
    "  clean_string = ''.join(clean_chars)\n",
    "\n",
    "  output_chars = [letter_dict[char] for char in clean_chars]\n",
    "  output_string = ''.join(output_chars)\n",
    "      \n",
    "  clean_string = replace(clean_string, ' ')\n",
    "  output_string = replace(output_string, '_')\n",
    "  \n",
    "  return(clean_string, output_string)"
   ]
  },
  {
   "cell_type": "code",
   "execution_count": 6,
   "metadata": {},
   "outputs": [],
   "source": [
    "# Replaces multiple spaces, or whatever char designated by the perameter into one char. (helper function)\n",
    "def replace(string, char):\n",
    "    while char+char in string:\n",
    "        string = string.replace(char+char, char)\n",
    "\n",
    "    return string\n"
   ]
  },
  {
   "cell_type": "code",
   "execution_count": 7,
   "metadata": {},
   "outputs": [],
   "source": [
    "def reverse_dict_with_duplicates(input_dict):\n",
    "    reversed_dict = {}\n",
    "    \n",
    "    for key, value in input_dict.items():\n",
    "        if value not in reversed_dict:\n",
    "            reversed_dict[value] = [key]\n",
    "        else:\n",
    "            reversed_dict[value].append(key)\n",
    "    \n",
    "    return reversed_dict\n",
    "\n"
   ]
  },
  {
   "cell_type": "code",
   "execution_count": 8,
   "metadata": {},
   "outputs": [],
   "source": [
    "\n",
    "letter_dict = {\n",
    "    \"ا\": \"ا\",\n",
    "    \"أ\": \"ا\",\n",
    "    \"إ\": \"ا\",\n",
    "    \"آ\": \"ا\",\n",
    "    \"ب\": \"ب\",\n",
    "    \"ت\": \"ب\",\n",
    "    \"ث\": \"ب\",\n",
    "    \"ج\": \"ح\",\n",
    "    \"ح\": \"ح\",\n",
    "    \"خ\": \"ح\",\n",
    "    \"د\": \"د\",\n",
    "    \"ذ\": \"د\",\n",
    "    \"ر\": \"ر\",\n",
    "    \"ز\": \"ر\",\n",
    "    \"س\": \"س\",\n",
    "    \"ش\": \"س\",\n",
    "    \"ص\": \"ص\",\n",
    "    \"ض\": \"ص\",\n",
    "    \"ط\": \"ط\",\n",
    "    \"ظ\": \"ط\",\n",
    "    \"ع\": \"ع\",\n",
    "    \"غ\": \"ع\",\n",
    "    \"ف\": \"ف\",\n",
    "    \"ق\": \"ف\",\n",
    "    \"ك\": \"ك\",\n",
    "    \"ل\": \"ل\",\n",
    "    \"م\": \"م\",\n",
    "    \"ن\": \"ن\",\n",
    "    \"و\": \"و\",\n",
    "    \"ؤ\": \"و\",\n",
    "    \"ه\": \"ه\",\n",
    "    \"ة\": \"ه\",\n",
    "    \"ي\": \"ى\",\n",
    "    \"ى\": \"ى\",\n",
    "    \"ئ\": \"ى\",\n",
    "    \" \": \"_\",\n",
    "    \n",
    "}\n",
    "letter_set = set(letter_dict.keys())\n",
    "iLetters = reverse_dict_with_duplicates(letter_dict)"
   ]
  },
  {
   "cell_type": "code",
   "execution_count": 9,
   "metadata": {},
   "outputs": [],
   "source": [
    "#Arabic wordlist into set\n",
    "with open('arabic-wordlist-1.6.txt', 'r') as f:\n",
    "    dictionary = set(f.read().splitlines())\n",
    "\n"
   ]
  },
  {
   "cell_type": "code",
   "execution_count": 10,
   "metadata": {},
   "outputs": [],
   "source": [
    "def allVariation(root, i = 0):\n",
    "    tWord = []\n",
    "    word = [a for a in root]\n",
    "    char = word[i]\n",
    "    for dot in iLetters[char]:\n",
    "        word[i] = dot\n",
    "        vWord = ''.join(word)\n",
    "        if i != len(word) - 1:\n",
    "            tWord.extend(allVariation(vWord, i+1))\n",
    "        else:\n",
    "            if vWord in dictionary:\n",
    "                tWord.append(vWord)\n",
    "    return tWord"
   ]
  },
  {
   "cell_type": "code",
   "execution_count": 11,
   "metadata": {},
   "outputs": [
    {
     "name": "stdout",
     "output_type": "stream",
     "text": [
      "['كبب', 'كبت', 'كبث', 'كتب', 'كثب', 'كثت']\n",
      "Length: 6\n",
      "Duplicates: False\n"
     ]
    }
   ],
   "source": [
    "new = allVariation(parse_text(\"كتب\")[1])\n",
    "print(new)\n",
    "print(\"Length:\", len(new))\n",
    "print(\"Duplicates:\", len(new) != len(set(new)))"
   ]
  },
  {
   "cell_type": "code",
   "execution_count": null,
   "metadata": {},
   "outputs": [],
   "source": []
  }
 ],
 "metadata": {
  "kernelspec": {
   "display_name": "Python 3",
   "language": "python",
   "name": "python3"
  },
  "language_info": {
   "codemirror_mode": {
    "name": "ipython",
    "version": 3
   },
   "file_extension": ".py",
   "mimetype": "text/x-python",
   "name": "python",
   "nbconvert_exporter": "python",
   "pygments_lexer": "ipython3",
   "version": "3.11.5"
  },
  "orig_nbformat": 4
 },
 "nbformat": 4,
 "nbformat_minor": 2
}
