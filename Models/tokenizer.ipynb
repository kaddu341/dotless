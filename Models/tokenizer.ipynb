{
 "cells": [
  {
   "cell_type": "code",
   "execution_count": 48,
   "metadata": {},
   "outputs": [],
   "source": [
    "from datasets import *\n",
    "from transformers import AutoTokenizer\n",
    "\n",
    "from tokenizers import (\n",
    "    decoders,\n",
    "    models,\n",
    "    normalizers,\n",
    "    pre_tokenizers,\n",
    "    processors,\n",
    "    trainers,\n",
    "    Tokenizer,\n",
    ")\n",
    "\n",
    "from huggingface_hub import notebook_login\n"
   ]
  },
  {
   "cell_type": "code",
   "execution_count": 22,
   "metadata": {},
   "outputs": [],
   "source": [
    "raw_datasets = load_from_disk(\"AR-dotless-mediumPlus-arrow\")"
   ]
  },
  {
   "cell_type": "code",
   "execution_count": 23,
   "metadata": {},
   "outputs": [
    {
     "name": "stdout",
     "output_type": "stream",
     "text": [
      "DatasetDict({\n",
      "    train: Dataset({\n",
      "        features: ['clean', 'dotless'],\n",
      "        num_rows: 4446330\n",
      "    })\n",
      "}) \n",
      "\n",
      "{'clean': 'القتالية بأسرع وقت ممكن واستئناف العملية التفاوضية في', 'dotless': 'الفبالىه باسرع وفب ممكن واسبىناف العملىه البفاوصىه فى'}\n"
     ]
    }
   ],
   "source": [
    "print(raw_datasets, '\\n')\n",
    "print(raw_datasets['train'][0])"
   ]
  },
  {
   "cell_type": "code",
   "execution_count": 24,
   "metadata": {},
   "outputs": [],
   "source": [
    "checkpoint = \"google/t5-v1_1-small\"\n",
    "old_tokenizer = AutoTokenizer.from_pretrained(checkpoint)"
   ]
  },
  {
   "cell_type": "code",
   "execution_count": 25,
   "metadata": {},
   "outputs": [],
   "source": [
    "def d_get_training_corpus():\n",
    "    dataset = raw_datasets[\"train\"]\n",
    "    for start_idx in range(0, len(dataset), 1000):\n",
    "        samples = dataset[start_idx : start_idx + 1000]\n",
    "        yield samples['dotless']\n",
    "        \n",
    "def c_get_training_corpus():\n",
    "    dataset = raw_datasets[\"train\"]\n",
    "    for start_idx in range(0, len(dataset), 1000):\n",
    "        samples = dataset[start_idx : start_idx + 1000]\n",
    "        yield samples['clean']\n",
    "        \n",
    "d_training_corpus = d_get_training_corpus()\n",
    "c_training_corpus = c_get_training_corpus()\n"
   ]
  },
  {
   "cell_type": "code",
   "execution_count": 26,
   "metadata": {},
   "outputs": [
    {
     "name": "stdout",
     "output_type": "stream",
     "text": [
      "\n",
      "\n"
     ]
    }
   ],
   "source": [
    "dotless_tokenizer = old_tokenizer.train_new_from_iterator(d_training_corpus, vocab_size=30000)\n"
   ]
  },
  {
   "cell_type": "code",
   "execution_count": 27,
   "metadata": {},
   "outputs": [
    {
     "name": "stdout",
     "output_type": "stream",
     "text": [
      "\n",
      "\n"
     ]
    }
   ],
   "source": [
    "clean_tokenizer = old_tokenizer.train_new_from_iterator(c_training_corpus, vocab_size=30000)\n"
   ]
  },
  {
   "cell_type": "code",
   "execution_count": 28,
   "metadata": {},
   "outputs": [],
   "source": [
    "test_d = \"ىا رب معبرفا بان ابامى فد طمب فوف\"\n",
    "test_c = \"يا رب معترفا بأن أثامى قد طمت فوق\""
   ]
  },
  {
   "cell_type": "code",
   "execution_count": 44,
   "metadata": {},
   "outputs": [
    {
     "name": "stdout",
     "output_type": "stream",
     "text": [
      "{'input_ids': [107, 108, 105, 1086, 18092, 105, 202, 915, 2847, 162, 107, 18001, 708, 1], 'attention_mask': [1, 1, 1, 1, 1, 1, 1, 1, 1, 1, 1, 1, 1, 1]}\n",
      "['▁', 'ى', 'ا', '▁رب', '▁معبرف', 'ا', '▁بان', '▁اب', 'امى', '▁فد', '▁', 'طمب', '▁فوف', '</s>']\n",
      "ىا رب معبرفا بان ابامى فد طمب فوف\n",
      "\n",
      "\n",
      "{'input_ids': [231, 1237, 19958, 106, 247, 175, 14943, 141, 172, 23083, 113, 693, 1], 'attention_mask': [1, 1, 1, 1, 1, 1, 1, 1, 1, 1, 1, 1, 1]}\n",
      "['▁يا', '▁رب', '▁معترف', 'ا', '▁بأن', '▁أ', 'ثام', 'ى', '▁قد', '▁طم', 'ت', '▁فوق', '</s>']\n",
      "يا رب معترفا بأن أثامى قد طمت فوق\n"
     ]
    }
   ],
   "source": [
    "inputs_d = dotless_tokenizer(test_d)\n",
    "tokens_d = dotless_tokenizer.tokenize(test_d)\n",
    "print(inputs_d)\n",
    "print(dotless_tokenizer.convert_ids_to_tokens(inputs_d[\"input_ids\"]))\n",
    "print(test_d)\n",
    "\n",
    "print()\n",
    "print()\n",
    "\n",
    "inputs_c = clean_tokenizer(test_c)\n",
    "tokens_c = clean_tokenizer.tokenize(test_c)\n",
    "print(inputs_c)\n",
    "print(clean_tokenizer.convert_ids_to_tokens(inputs_c[\"input_ids\"]))\n",
    "print(test_c)\n",
    "\n"
   ]
  },
  {
   "cell_type": "code",
   "execution_count": 55,
   "metadata": {},
   "outputs": [
    {
     "name": "stdout",
     "output_type": "stream",
     "text": [
      "{'input_ids': [107, 108, 105, 1086, 18092, 105, 202, 915, 2847, 162, 107, 18001, 708, 1], 'attention_mask': [1, 1, 1, 1, 1, 1, 1, 1, 1, 1, 1, 1, 1, 1]}\n",
      "['▁', 'ى', 'ا', '▁رب', '▁معبرف', 'ا', '▁بان', '▁اب', 'امى', '▁فد', '▁', 'طمب', '▁فوف', '</s>']\n",
      "[0, 0, 0, 1, 2, 2, 3, 4, 4, 5, 6, 6, 7, None]\n"
     ]
    }
   ],
   "source": [
    "encoding = dotless_tokenizer(test_d)\n",
    "print(encoding)\n",
    "\n",
    "print(encoding.tokens())\n",
    "print(encoding.word_ids())"
   ]
  },
  {
   "cell_type": "code",
   "execution_count": 45,
   "metadata": {},
   "outputs": [
    {
     "data": {
      "text/plain": [
       "('AR-dotless-dotless-tokenizer/tokenizer_config.json',\n",
       " 'AR-dotless-dotless-tokenizer/special_tokens_map.json',\n",
       " 'AR-dotless-dotless-tokenizer/tokenizer.json')"
      ]
     },
     "execution_count": 45,
     "metadata": {},
     "output_type": "execute_result"
    }
   ],
   "source": [
    "dotless_tokenizer.save_pretrained(\"AR-dotless-dotless-tokenizer\")\n"
   ]
  },
  {
   "cell_type": "code",
   "execution_count": 46,
   "metadata": {},
   "outputs": [
    {
     "data": {
      "text/plain": [
       "('AR-dotless-clean-tokenizer/tokenizer_config.json',\n",
       " 'AR-dotless-clean-tokenizer/special_tokens_map.json',\n",
       " 'AR-dotless-clean-tokenizer/tokenizer.json')"
      ]
     },
     "execution_count": 46,
     "metadata": {},
     "output_type": "execute_result"
    }
   ],
   "source": [
    "clean_tokenizer.save_pretrained(\"AR-dotless-clean-tokenizer\")\n"
   ]
  },
  {
   "cell_type": "code",
   "execution_count": 51,
   "metadata": {},
   "outputs": [
    {
     "data": {
      "text/plain": [
       "CommitInfo(commit_url='https://huggingface.co/dot-ammar/AR-dotless-dotless-tokenizer/commit/1831a3a7d5276ddd2b2531d6b2366ffffb11b213', commit_message='Upload tokenizer', commit_description='', oid='1831a3a7d5276ddd2b2531d6b2366ffffb11b213', pr_url=None, pr_revision=None, pr_num=None)"
      ]
     },
     "execution_count": 51,
     "metadata": {},
     "output_type": "execute_result"
    }
   ],
   "source": [
    "dotless_tokenizer.push_to_hub(\"AR-dotless-dotless-tokenizer\")\n"
   ]
  },
  {
   "cell_type": "code",
   "execution_count": 50,
   "metadata": {},
   "outputs": [
    {
     "data": {
      "text/plain": [
       "CommitInfo(commit_url='https://huggingface.co/dot-ammar/AR-dotless-clean-tokenizer/commit/a1adfda1f3a664f4c8cc2ac96086e74c8bda74d8', commit_message='Upload tokenizer', commit_description='', oid='a1adfda1f3a664f4c8cc2ac96086e74c8bda74d8', pr_url=None, pr_revision=None, pr_num=None)"
      ]
     },
     "execution_count": 50,
     "metadata": {},
     "output_type": "execute_result"
    }
   ],
   "source": [
    "clean_tokenizer.push_to_hub(\"AR-dotless-clean-tokenizer\")"
   ]
  },
  {
   "cell_type": "code",
   "execution_count": null,
   "metadata": {},
   "outputs": [],
   "source": []
  }
 ],
 "metadata": {
  "kernelspec": {
   "display_name": "Python 3",
   "language": "python",
   "name": "python3"
  },
  "language_info": {
   "codemirror_mode": {
    "name": "ipython",
    "version": 3
   },
   "file_extension": ".py",
   "mimetype": "text/x-python",
   "name": "python",
   "nbconvert_exporter": "python",
   "pygments_lexer": "ipython3",
   "version": "3.11.5"
  },
  "orig_nbformat": 4
 },
 "nbformat": 4,
 "nbformat_minor": 2
}
