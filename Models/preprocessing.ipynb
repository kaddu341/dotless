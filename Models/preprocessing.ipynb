{
 "cells": [
  {
   "cell_type": "code",
   "execution_count": 334,
   "metadata": {},
   "outputs": [],
   "source": [
    "import numpy as np\n",
    "import pandas as pd\n",
    "from datasets import *\n"
   ]
  },
  {
   "cell_type": "code",
   "execution_count": 339,
   "metadata": {},
   "outputs": [],
   "source": [
    "letter_dict = {\n",
    "    \"ا\": \"ا\",\n",
    "    \"أ\": \"ا\",\n",
    "    \"إ\": \"ا\",\n",
    "    \"آ\": \"ا\",\n",
    "    \"ب\": \"ب\",\n",
    "    \"ت\": \"ب\",\n",
    "    \"ث\": \"ب\",\n",
    "    \"ج\": \"ح\",\n",
    "    \"ح\": \"ح\",\n",
    "    \"خ\": \"ح\",\n",
    "    \"د\": \"د\",\n",
    "    \"ذ\": \"د\",\n",
    "    \"ر\": \"ر\",\n",
    "    \"ز\": \"ر\",\n",
    "    \"س\": \"س\",\n",
    "    \"ش\": \"س\",\n",
    "    \"ص\": \"ص\",\n",
    "    \"ض\": \"ص\",\n",
    "    \"ط\": \"ط\",\n",
    "    \"ظ\": \"ط\",\n",
    "    \"ع\": \"ع\",\n",
    "    \"غ\": \"ع\",\n",
    "    \"ف\": \"ف\",\n",
    "    \"ق\": \"ف\",\n",
    "    \"ك\": \"ك\",\n",
    "    \"ل\": \"ل\",\n",
    "    \"م\": \"م\",\n",
    "    \"ن\": \"ن\",\n",
    "    \"و\": \"و\",\n",
    "    \"ؤ\": \"و\",\n",
    "    \"ه\": \"ه\",\n",
    "    \"ة\": \"ه\",\n",
    "    \"ي\": \"ى\",\n",
    "    \"ى\": \"ى\",\n",
    "    \"ئ\": \"ى\",\n",
    "    \" \": \"_\",\n",
    "}"
   ]
  },
  {
   "cell_type": "code",
   "execution_count": 340,
   "metadata": {},
   "outputs": [],
   "source": [
    "def while_replace(string, char):\n",
    "    while char+char in string:\n",
    "        string = string.replace(char+char, char)\n",
    "\n",
    "    return string\n"
   ]
  },
  {
   "cell_type": "code",
   "execution_count": 369,
   "metadata": {},
   "outputs": [
    {
     "name": "stdout",
     "output_type": "stream",
     "text": [
      "الناس مهما اختلفت\n",
      "الناس_مهما_احبلفب\n"
     ]
    }
   ],
   "source": [
    "#Test\n",
    "sample_text = \"الناس - مهما- - - - اختلفت\"\n",
    "\n",
    "clean, output = parse_text(sample_text)\n",
    "\n",
    "print(clean)\n",
    "print(output)"
   ]
  },
  {
   "cell_type": "code",
   "execution_count": 368,
   "metadata": {},
   "outputs": [],
   "source": [
    "def parse_text(text):\n",
    "  text = text.strip()\n",
    "\n",
    "  output_string = \"\"\n",
    "  clean_string = \"\"\n",
    "  for char in text:\n",
    "    if char in letter_dict:\n",
    "      clean_string += char\n",
    "      output_string += letter_dict[char]\n",
    "      \n",
    "  clean_string = while_replace(clean_string, ' ')\n",
    "  output_string = while_replace(output_string, '_')\n",
    "  \n",
    "  return(clean_string, output_string)\n"
   ]
  },
  {
   "cell_type": "code",
   "execution_count": 352,
   "metadata": {},
   "outputs": [
    {
     "name": "stderr",
     "output_type": "stream",
     "text": [
      "Downloading data files: 100%|██████████| 1/1 [00:00<00:00, 6533.18it/s]\n",
      "Extracting data files: 100%|██████████| 1/1 [00:00<00:00, 235.25it/s]\n",
      "Generating train split: 126199432 examples [02:40, 788629.31 examples/s] \n"
     ]
    }
   ],
   "source": [
    "dataset = load_dataset('text', data_files={'train': [\"ar.txt\"]}) #cc100 Arabic dataset"
   ]
  },
  {
   "cell_type": "code",
   "execution_count": 367,
   "metadata": {},
   "outputs": [
    {
     "name": "stdout",
     "output_type": "stream",
     "text": [
      "DatasetDict({\n",
      "    train: Dataset({\n",
      "        features: ['text'],\n",
      "        num_rows: 126199432\n",
      "    })\n",
      "})\n"
     ]
    }
   ],
   "source": [
    "print(dataset)"
   ]
  },
  {
   "cell_type": "code",
   "execution_count": 366,
   "metadata": {},
   "outputs": [],
   "source": [
    "partialDataset = dataset['train'][slice(None, 10, None)]\n",
    "full_df = pd.DataFrame(partialDataset)\n"
   ]
  },
  {
   "cell_type": "code",
   "execution_count": 365,
   "metadata": {},
   "outputs": [
    {
     "data": {
      "text/html": [
       "<div>\n",
       "<style scoped>\n",
       "    .dataframe tbody tr th:only-of-type {\n",
       "        vertical-align: middle;\n",
       "    }\n",
       "\n",
       "    .dataframe tbody tr th {\n",
       "        vertical-align: top;\n",
       "    }\n",
       "\n",
       "    .dataframe thead th {\n",
       "        text-align: right;\n",
       "    }\n",
       "</style>\n",
       "<table border=\"1\" class=\"dataframe\">\n",
       "  <thead>\n",
       "    <tr style=\"text-align: right;\">\n",
       "      <th></th>\n",
       "      <th>text_clean</th>\n",
       "      <th>text_dotless</th>\n",
       "    </tr>\n",
       "  </thead>\n",
       "  <tbody>\n",
       "    <tr>\n",
       "      <th>0</th>\n",
       "      <td>اللوا علي محمد الكحلاني نصيحة صادقة</td>\n",
       "      <td>_اللوا_على_محمد_الكحلانى_نصىحه_صادفه_</td>\n",
       "    </tr>\n",
       "    <tr>\n",
       "      <th>1</th>\n",
       "      <td>اليمن جنوبها وشمالها شرقها وغربها وقفت على مشا...</td>\n",
       "      <td>الىمن_حنوبها_وسمالها_سرفها_وعربها_وففب_على_مسا...</td>\n",
       "    </tr>\n",
       "    <tr>\n",
       "      <th>2</th>\n",
       "      <td>واليوم وبعد أن جرت مياه كثيرة وتدفقت من تحت ال...</td>\n",
       "      <td>والىوم_وبعد_ان_حرب_مىاه_كبىره_وبدففب_من_بحب_ال...</td>\n",
       "    </tr>\n",
       "    <tr>\n",
       "      <th>3</th>\n",
       "      <td>وكلام الرسول وأحاديثه ما هي إلا وحي من الله بم...</td>\n",
       "      <td>وكلام_الرسول_واحادىبه_ما_هى_الا_وحى_من_الله_بم...</td>\n",
       "    </tr>\n",
       "    <tr>\n",
       "      <th>4</th>\n",
       "      <td>فهل أوضاع اليمنيين القائمة هي نتاج حكمة وهل من...</td>\n",
       "      <td>فهل_اوصاع_الىمنىىن_الفاىمه_هى_نباح_حكمه_وهل_من...</td>\n",
       "    </tr>\n",
       "  </tbody>\n",
       "</table>\n",
       "</div>"
      ],
      "text/plain": [
       "                                          text_clean  \\\n",
       "0               اللوا علي محمد الكحلاني نصيحة صادقة    \n",
       "1  اليمن جنوبها وشمالها شرقها وغربها وقفت على مشا...   \n",
       "2  واليوم وبعد أن جرت مياه كثيرة وتدفقت من تحت ال...   \n",
       "3  وكلام الرسول وأحاديثه ما هي إلا وحي من الله بم...   \n",
       "4  فهل أوضاع اليمنيين القائمة هي نتاج حكمة وهل من...   \n",
       "\n",
       "                                        text_dotless  \n",
       "0              _اللوا_على_محمد_الكحلانى_نصىحه_صادفه_  \n",
       "1  الىمن_حنوبها_وسمالها_سرفها_وعربها_وففب_على_مسا...  \n",
       "2  والىوم_وبعد_ان_حرب_مىاه_كبىره_وبدففب_من_بحب_ال...  \n",
       "3  وكلام_الرسول_واحادىبه_ما_هى_الا_وحى_من_الله_بم...  \n",
       "4  فهل_اوصاع_الىمنىىن_الفاىمه_هى_نباح_حكمه_وهل_من...  "
      ]
     },
     "execution_count": 365,
     "metadata": {},
     "output_type": "execute_result"
    }
   ],
   "source": [
    "df = full_df[[\"text\"]]\n",
    "df[\"text\"] = df[\"text\"].astype(str)\n",
    "\n",
    "df[\"text_clean\"] = df[\"text\"].apply(lambda text: parse_text(text)[0])\n",
    "\n",
    "df[\"text_dotless\"] = df[\"text\"].apply(lambda text: parse_text(text)[1])\n",
    "\n",
    "df.drop([\"text\"], axis=1, inplace=True)\n",
    "\n",
    "df.head()"
   ]
  },
  {
   "cell_type": "code",
   "execution_count": 364,
   "metadata": {},
   "outputs": [
    {
     "name": "stdout",
     "output_type": "stream",
     "text": [
      " اللوا علي محمد الكحلاني نصيحة صادقة \n",
      "Keys: Index(['text_clean', 'text_dotless'], dtype='object')\n"
     ]
    }
   ],
   "source": [
    "print(df[\"text_clean\"][0])\n",
    "print('Keys:',df.keys())"
   ]
  },
  {
   "cell_type": "code",
   "execution_count": 363,
   "metadata": {},
   "outputs": [],
   "source": [
    "#dotlessPartialDataset = Dataset.from_dict(df) # to convert the pandas dataframe to a dataset\n",
    "#print(dotlessPartialDataset)\n"
   ]
  },
  {
   "cell_type": "code",
   "execution_count": null,
   "metadata": {},
   "outputs": [],
   "source": []
  }
 ],
 "metadata": {
  "kernelspec": {
   "display_name": "Python 3",
   "language": "python",
   "name": "python3"
  },
  "language_info": {
   "codemirror_mode": {
    "name": "ipython",
    "version": 3
   },
   "file_extension": ".py",
   "mimetype": "text/x-python",
   "name": "python",
   "nbconvert_exporter": "python",
   "pygments_lexer": "ipython3",
   "version": "3.11.4"
  },
  "orig_nbformat": 4
 },
 "nbformat": 4,
 "nbformat_minor": 2
}
