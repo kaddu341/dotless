{
 "cells": [
  {
   "cell_type": "code",
   "execution_count": 1,
   "metadata": {},
   "outputs": [],
   "source": [
    "from datasets import *\n",
    "from transformers import AutoTokenizer\n",
    "\n",
    "from tokenizers import (\n",
    "    decoders,\n",
    "    models,\n",
    "    normalizers,\n",
    "    pre_tokenizers,\n",
    "    processors,\n",
    "    trainers,\n",
    "    Tokenizer,\n",
    ")\n",
    "\n",
    "from huggingface_hub import notebook_login\n"
   ]
  },
  {
   "cell_type": "code",
   "execution_count": 3,
   "metadata": {},
   "outputs": [],
   "source": [
    "raw_datasets = load_from_disk(\"AR-dotless-medium-mixed-arrow\")"
   ]
  },
  {
   "cell_type": "code",
   "execution_count": 4,
   "metadata": {},
   "outputs": [
    {
     "name": "stdout",
     "output_type": "stream",
     "text": [
      "DatasetDict({\n",
      "    train: Dataset({\n",
      "        features: ['clean', 'dotless'],\n",
      "        num_rows: 4446330\n",
      "    })\n",
      "}) \n",
      "\n",
      "{'clean': 'التشكيلات الحضارية المشرقية الفارسية التركية الهندية المغولية في', 'dotless': 'التشكيلات الحصارىه المسرفىه الفارسىه التركية الهندية المعولىه في'}\n"
     ]
    }
   ],
   "source": [
    "print(raw_datasets, '\\n')\n",
    "print(raw_datasets['train'][0])"
   ]
  },
  {
   "cell_type": "code",
   "execution_count": 5,
   "metadata": {},
   "outputs": [
    {
     "data": {
      "application/vnd.jupyter.widget-view+json": {
       "model_id": "5546a5e5d367421e99076d0eb2611a8c",
       "version_major": 2,
       "version_minor": 0
      },
      "text/plain": [
       "tokenizer_config.json:   0%|          | 0.00/1.86k [00:00<?, ?B/s]"
      ]
     },
     "metadata": {},
     "output_type": "display_data"
    },
    {
     "data": {
      "application/vnd.jupyter.widget-view+json": {
       "model_id": "96b1e9e1ab944c2e8561c324f846842f",
       "version_major": 2,
       "version_minor": 0
      },
      "text/plain": [
       "config.json:   0%|          | 0.00/537 [00:00<?, ?B/s]"
      ]
     },
     "metadata": {},
     "output_type": "display_data"
    },
    {
     "data": {
      "application/vnd.jupyter.widget-view+json": {
       "model_id": "210dc83ceabe4b4abd40fafc92712d91",
       "version_major": 2,
       "version_minor": 0
      },
      "text/plain": [
       "spiece.model:   0%|          | 0.00/792k [00:00<?, ?B/s]"
      ]
     },
     "metadata": {},
     "output_type": "display_data"
    },
    {
     "data": {
      "application/vnd.jupyter.widget-view+json": {
       "model_id": "fbea9181bd014cf590f8706919356743",
       "version_major": 2,
       "version_minor": 0
      },
      "text/plain": [
       "special_tokens_map.json:   0%|          | 0.00/1.79k [00:00<?, ?B/s]"
      ]
     },
     "metadata": {},
     "output_type": "display_data"
    },
    {
     "name": "stderr",
     "output_type": "stream",
     "text": [
      "You are using the default legacy behaviour of the <class 'transformers.models.t5.tokenization_t5.T5Tokenizer'>. This is expected, and simply means that the `legacy` (previous) behavior will be used so nothing changes for you. If you want to use the new behaviour, set `legacy=False`. This should only be set if you understand what it means, and thoroughly read the reason why this was added as explained in https://github.com/huggingface/transformers/pull/24565\n"
     ]
    }
   ],
   "source": [
    "checkpoint = \"google/t5-v1_1-small\"\n",
    "old_tokenizer = AutoTokenizer.from_pretrained(checkpoint)"
   ]
  },
  {
   "cell_type": "code",
   "execution_count": 7,
   "metadata": {},
   "outputs": [],
   "source": [
    "def get_training_corpus():\n",
    "    dataset = raw_datasets[\"train\"]\n",
    "    for start_idx in range(0, len(dataset), 1000):\n",
    "        samples = dataset[start_idx : start_idx + 1000]\n",
    "        yield samples['clean']\n",
    "        yield samples['dotless']\n",
    "        \n",
    "training_corpus = get_training_corpus()\n",
    "\n"
   ]
  },
  {
   "cell_type": "code",
   "execution_count": 8,
   "metadata": {},
   "outputs": [
    {
     "name": "stdout",
     "output_type": "stream",
     "text": [
      "\n",
      "\n"
     ]
    }
   ],
   "source": [
    "tokenizer = old_tokenizer.train_new_from_iterator(training_corpus, vocab_size=32000)\n"
   ]
  },
  {
   "cell_type": "code",
   "execution_count": 9,
   "metadata": {},
   "outputs": [
    {
     "data": {
      "text/plain": [
       "32000"
      ]
     },
     "execution_count": 9,
     "metadata": {},
     "output_type": "execute_result"
    }
   ],
   "source": [
    "tokenizer.vocab_size"
   ]
  },
  {
   "cell_type": "code",
   "execution_count": 10,
   "metadata": {},
   "outputs": [],
   "source": [
    "test_d = \"ىا رب معبرفا بان ابامى فد طمب فوف\"\n",
    "test_c = \"يا رب معترفا بأن أثامى قد طمت فوق\""
   ]
  },
  {
   "cell_type": "code",
   "execution_count": 14,
   "metadata": {},
   "outputs": [
    {
     "name": "stdout",
     "output_type": "stream",
     "text": [
      "{'input_ids': [103, 119, 104, 1028, 6358, 141, 104, 455, 826, 5161, 478, 103, 203, 117, 122, 6035, 1], 'attention_mask': [1, 1, 1, 1, 1, 1, 1, 1, 1, 1, 1, 1, 1, 1, 1, 1, 1]}\n",
      "['▁', 'ى', 'ا', '▁رب', '▁معبر', 'ف', 'ا', '▁بان', '▁اب', 'امى', '▁فد', '▁', 'ط', 'م', 'ب', '▁فوف', '</s>']\n",
      "ىا رب معبرفا بان ابامى فد طمب فوف\n",
      "\n",
      "\n",
      "{'input_ids': [103, 109, 104, 1028, 23397, 104, 260, 15397, 5161, 178, 103, 203, 117, 112, 775, 1], 'attention_mask': [1, 1, 1, 1, 1, 1, 1, 1, 1, 1, 1, 1, 1, 1, 1, 1]}\n",
      "['▁', 'ي', 'ا', '▁رب', '▁معترف', 'ا', '▁بأن', '▁أث', 'امى', '▁قد', '▁', 'ط', 'م', 'ت', '▁فوق', '</s>']\n",
      "يا رب معترفا بأن أثامى قد طمت فوق\n"
     ]
    }
   ],
   "source": [
    "inputs_d = tokenizer(test_d)\n",
    "tokens_d = tokenizer.tokenize(test_d)\n",
    "print(inputs_d)\n",
    "print(tokenizer.convert_ids_to_tokens(inputs_d[\"input_ids\"]))\n",
    "print(test_d)\n",
    "\n",
    "print()\n",
    "print()\n",
    "\n",
    "inputs_c = tokenizer(test_c)\n",
    "tokens_c = tokenizer.tokenize(test_c)\n",
    "print(inputs_c)\n",
    "print(tokenizer.convert_ids_to_tokens(inputs_c[\"input_ids\"]))\n",
    "print(test_c)\n",
    "\n"
   ]
  },
  {
   "cell_type": "code",
   "execution_count": 15,
   "metadata": {},
   "outputs": [
    {
     "name": "stdout",
     "output_type": "stream",
     "text": [
      "{'input_ids': [103, 119, 104, 1028, 6358, 141, 104, 455, 826, 5161, 478, 103, 203, 117, 122, 6035, 1], 'attention_mask': [1, 1, 1, 1, 1, 1, 1, 1, 1, 1, 1, 1, 1, 1, 1, 1, 1]}\n",
      "['▁', 'ى', 'ا', '▁رب', '▁معبر', 'ف', 'ا', '▁بان', '▁اب', 'امى', '▁فد', '▁', 'ط', 'م', 'ب', '▁فوف', '</s>']\n",
      "[0, 0, 0, 1, 2, 2, 2, 3, 4, 4, 5, 6, 6, 6, 6, 7, None]\n"
     ]
    }
   ],
   "source": [
    "encoding = tokenizer(test_d)\n",
    "print(encoding)\n",
    "\n",
    "print(encoding.tokens())\n",
    "print(encoding.word_ids())"
   ]
  },
  {
   "cell_type": "code",
   "execution_count": 16,
   "metadata": {},
   "outputs": [
    {
     "data": {
      "text/plain": [
       "('AR-dotless-tokenizer-mixed/tokenizer_config.json',\n",
       " 'AR-dotless-tokenizer-mixed/special_tokens_map.json',\n",
       " 'AR-dotless-tokenizer-mixed/tokenizer.json')"
      ]
     },
     "execution_count": 16,
     "metadata": {},
     "output_type": "execute_result"
    }
   ],
   "source": [
    "tokenizer.save_pretrained(\"AR-dotless-tokenizer-mixed\")\n"
   ]
  },
  {
   "cell_type": "code",
   "execution_count": 17,
   "metadata": {},
   "outputs": [
    {
     "data": {
      "text/plain": [
       "CommitInfo(commit_url='https://huggingface.co/dot-ammar/AR-dotless-tokenizer-mixed/commit/0aad0a4aa1b2ebed143d650ae6ec925bef83a7c3', commit_message='Upload tokenizer', commit_description='', oid='0aad0a4aa1b2ebed143d650ae6ec925bef83a7c3', pr_url=None, pr_revision=None, pr_num=None)"
      ]
     },
     "execution_count": 17,
     "metadata": {},
     "output_type": "execute_result"
    }
   ],
   "source": [
    "tokenizer.push_to_hub(\"AR-dotless-tokenizer-mixed\")\n"
   ]
  },
  {
   "cell_type": "code",
   "execution_count": null,
   "metadata": {},
   "outputs": [],
   "source": []
  },
  {
   "cell_type": "code",
   "execution_count": null,
   "metadata": {},
   "outputs": [],
   "source": []
  }
 ],
 "metadata": {
  "kernelspec": {
   "display_name": "Python 3",
   "language": "python",
   "name": "python3"
  },
  "language_info": {
   "codemirror_mode": {
    "name": "ipython",
    "version": 3
   },
   "file_extension": ".py",
   "mimetype": "text/x-python",
   "name": "python",
   "nbconvert_exporter": "python",
   "pygments_lexer": "ipython3",
   "version": "3.11.8"
  },
  "orig_nbformat": 4
 },
 "nbformat": 4,
 "nbformat_minor": 2
}
